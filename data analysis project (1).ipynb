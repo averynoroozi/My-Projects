{
 "cells": [
  {
   "cell_type": "markdown",
   "id": "13eb14e3-b8c0-4555-972c-0d93c93a6b7c",
   "metadata": {},
   "source": [
    "# Healthcare Analytics - Understanding Trends in Healthcare Data \n"
   ]
  },
  {
   "cell_type": "markdown",
   "id": "e80c420f-95dc-4814-b1ae-ec02a09d98dd",
   "metadata": {},
   "source": [
    "In this project, data will be pulled from: https://www.kaggle.com/datasets/prasad22/healthcare-dataset?resource=download \n",
    "\n",
    "To preface, it is important to note that the analyzed data is synthetic and created with the intention to imitate real healthcare data. We begin by importing the necessary libraries.\n"
   ]
  },
  {
   "cell_type": "code",
   "execution_count": 14,
   "id": "fce58c7b-24ed-43f3-b74f-aad14f2591e3",
   "metadata": {},
   "outputs": [],
   "source": [
    "import pandas as pd\n",
    "import matplotlib.pyplot as plt\n",
    "\n",
    "df = pd.read_csv('healthcare_dataset.csv')"
   ]
  },
  {
   "cell_type": "markdown",
   "id": "82b3ca9f-4c66-463a-bd4c-e0921362f72d",
   "metadata": {},
   "source": [
    "# General statistics and information "
   ]
  },
  {
   "cell_type": "code",
   "execution_count": 10,
   "id": "2c717e25-0e7b-41f0-8815-c28a47cf87c1",
   "metadata": {
    "scrolled": true
   },
   "outputs": [
    {
     "name": "stdout",
     "output_type": "stream",
     "text": [
      "<class 'pandas.core.frame.DataFrame'>\n",
      "RangeIndex: 55500 entries, 0 to 55499\n",
      "Data columns (total 15 columns):\n",
      " #   Column              Non-Null Count  Dtype  \n",
      "---  ------              --------------  -----  \n",
      " 0   Name                55500 non-null  object \n",
      " 1   Age                 55500 non-null  int64  \n",
      " 2   Gender              55500 non-null  object \n",
      " 3   Blood Type          55500 non-null  object \n",
      " 4   Medical Condition   55500 non-null  object \n",
      " 5   Date of Admission   55500 non-null  object \n",
      " 6   Doctor              55500 non-null  object \n",
      " 7   Hospital            55500 non-null  object \n",
      " 8   Insurance Provider  55500 non-null  object \n",
      " 9   Billing Amount      55500 non-null  float64\n",
      " 10  Room Number         55500 non-null  int64  \n",
      " 11  Admission Type      55500 non-null  object \n",
      " 12  Discharge Date      55500 non-null  object \n",
      " 13  Medication          55500 non-null  object \n",
      " 14  Test Results        55500 non-null  object \n",
      "dtypes: float64(1), int64(2), object(12)\n",
      "memory usage: 6.4+ MB\n",
      "None\n",
      "                Age  Billing Amount   Room Number\n",
      "count  55500.000000    55500.000000  55500.000000\n",
      "mean      51.539459    25539.316097    301.134829\n",
      "std       19.602454    14211.454431    115.243069\n",
      "min       13.000000    -2008.492140    101.000000\n",
      "25%       35.000000    13241.224652    202.000000\n",
      "50%       52.000000    25538.069376    302.000000\n",
      "75%       68.000000    37820.508436    401.000000\n",
      "max       89.000000    52764.276736    500.000000\n"
     ]
    }
   ],
   "source": [
    "print(df.info())\n",
    "print(df.describe())"
   ]
  },
  {
   "cell_type": "markdown",
   "id": "e4b44841-86d6-4d15-8728-4aa2c0b94971",
   "metadata": {},
   "source": [
    "Here, we see that the given dataset contains 55,500 entries and 15 columns, with no missing values. \n",
    "\n",
    "The data contains both quantitative and categorical data, and the bottom section of the output describes the mean, standard deviation, and quartiles of the quantitative columns."
   ]
  },
  {
   "cell_type": "markdown",
   "id": "d983ace6-da2b-4264-a346-678346154f62",
   "metadata": {},
   "source": [
    "# Identifying Potential Issues and Cleaning the Data "
   ]
  },
  {
   "cell_type": "markdown",
   "id": "9295c6aa-34b2-4153-b146-8e91b7ddc264",
   "metadata": {},
   "source": [
    "There are a few potential issues and precautions that we will address when considering the data's statistics:\n",
    "\n",
    "1. The minimum billing amount is -2008.492140. A negative billing amount is atypical, and raises attention to the impact of negative billing amounts on the data.\n",
    "2. Potential outliers considering the size of the dataset.\n",
    "3. Ensure no presence of duplicates.\n",
    "4. Ensure that there are no inconsistencies in the types of data in the categorical columns.\n",
    "5. Columns using date-related data should be of datetime type, not object type."
   ]
  },
  {
   "cell_type": "markdown",
   "id": "c2872fea-8014-48cf-bc7a-0867756a0fb4",
   "metadata": {},
   "source": [
    "# Negative Billing Amounts"
   ]
  },
  {
   "cell_type": "code",
   "execution_count": 15,
   "id": "bc9b61d6-000f-4da7-a099-675a61ab3a14",
   "metadata": {},
   "outputs": [
    {
     "data": {
      "text/html": [
       "<div>\n",
       "<style scoped>\n",
       "    .dataframe tbody tr th:only-of-type {\n",
       "        vertical-align: middle;\n",
       "    }\n",
       "\n",
       "    .dataframe tbody tr th {\n",
       "        vertical-align: top;\n",
       "    }\n",
       "\n",
       "    .dataframe thead th {\n",
       "        text-align: right;\n",
       "    }\n",
       "</style>\n",
       "<table border=\"1\" class=\"dataframe\">\n",
       "  <thead>\n",
       "    <tr style=\"text-align: right;\">\n",
       "      <th></th>\n",
       "      <th>Name</th>\n",
       "      <th>Age</th>\n",
       "      <th>Gender</th>\n",
       "      <th>Blood Type</th>\n",
       "      <th>Medical Condition</th>\n",
       "      <th>Date of Admission</th>\n",
       "      <th>Doctor</th>\n",
       "      <th>Hospital</th>\n",
       "      <th>Insurance Provider</th>\n",
       "      <th>Billing Amount</th>\n",
       "      <th>Room Number</th>\n",
       "      <th>Admission Type</th>\n",
       "      <th>Discharge Date</th>\n",
       "      <th>Medication</th>\n",
       "      <th>Test Results</th>\n",
       "    </tr>\n",
       "  </thead>\n",
       "  <tbody>\n",
       "    <tr>\n",
       "      <th>132</th>\n",
       "      <td>ashLEy ERIcKSoN</td>\n",
       "      <td>32</td>\n",
       "      <td>Female</td>\n",
       "      <td>AB-</td>\n",
       "      <td>Cancer</td>\n",
       "      <td>2019-11-05</td>\n",
       "      <td>Gerald Hooper</td>\n",
       "      <td>and Johnson Moore, Branch</td>\n",
       "      <td>Aetna</td>\n",
       "      <td>-502.507813</td>\n",
       "      <td>376</td>\n",
       "      <td>Urgent</td>\n",
       "      <td>2019-11-23</td>\n",
       "      <td>Penicillin</td>\n",
       "      <td>Normal</td>\n",
       "    </tr>\n",
       "    <tr>\n",
       "      <th>799</th>\n",
       "      <td>CHRisTOPHer wEiss</td>\n",
       "      <td>49</td>\n",
       "      <td>Female</td>\n",
       "      <td>AB-</td>\n",
       "      <td>Asthma</td>\n",
       "      <td>2023-02-16</td>\n",
       "      <td>Kelly Thompson</td>\n",
       "      <td>Hunter-Hughes</td>\n",
       "      <td>Aetna</td>\n",
       "      <td>-1018.245371</td>\n",
       "      <td>204</td>\n",
       "      <td>Elective</td>\n",
       "      <td>2023-03-09</td>\n",
       "      <td>Penicillin</td>\n",
       "      <td>Inconclusive</td>\n",
       "    </tr>\n",
       "    <tr>\n",
       "      <th>1018</th>\n",
       "      <td>AsHley WaRnER</td>\n",
       "      <td>60</td>\n",
       "      <td>Male</td>\n",
       "      <td>A+</td>\n",
       "      <td>Hypertension</td>\n",
       "      <td>2021-12-21</td>\n",
       "      <td>Andrea Bentley</td>\n",
       "      <td>and Wagner, Lee Klein</td>\n",
       "      <td>Aetna</td>\n",
       "      <td>-306.364925</td>\n",
       "      <td>426</td>\n",
       "      <td>Elective</td>\n",
       "      <td>2022-01-11</td>\n",
       "      <td>Ibuprofen</td>\n",
       "      <td>Normal</td>\n",
       "    </tr>\n",
       "    <tr>\n",
       "      <th>1421</th>\n",
       "      <td>JAY galloWaY</td>\n",
       "      <td>74</td>\n",
       "      <td>Female</td>\n",
       "      <td>O+</td>\n",
       "      <td>Asthma</td>\n",
       "      <td>2021-01-20</td>\n",
       "      <td>Debra Everett</td>\n",
       "      <td>Group Peters</td>\n",
       "      <td>Blue Cross</td>\n",
       "      <td>-109.097122</td>\n",
       "      <td>381</td>\n",
       "      <td>Emergency</td>\n",
       "      <td>2021-02-09</td>\n",
       "      <td>Ibuprofen</td>\n",
       "      <td>Abnormal</td>\n",
       "    </tr>\n",
       "    <tr>\n",
       "      <th>2103</th>\n",
       "      <td>josHUa wilLIamSon</td>\n",
       "      <td>72</td>\n",
       "      <td>Female</td>\n",
       "      <td>B-</td>\n",
       "      <td>Diabetes</td>\n",
       "      <td>2021-03-21</td>\n",
       "      <td>Wendy Ramos</td>\n",
       "      <td>and Huff Reeves, Dennis</td>\n",
       "      <td>Blue Cross</td>\n",
       "      <td>-576.727907</td>\n",
       "      <td>369</td>\n",
       "      <td>Urgent</td>\n",
       "      <td>2021-04-17</td>\n",
       "      <td>Aspirin</td>\n",
       "      <td>Abnormal</td>\n",
       "    </tr>\n",
       "    <tr>\n",
       "      <th>...</th>\n",
       "      <td>...</td>\n",
       "      <td>...</td>\n",
       "      <td>...</td>\n",
       "      <td>...</td>\n",
       "      <td>...</td>\n",
       "      <td>...</td>\n",
       "      <td>...</td>\n",
       "      <td>...</td>\n",
       "      <td>...</td>\n",
       "      <td>...</td>\n",
       "      <td>...</td>\n",
       "      <td>...</td>\n",
       "      <td>...</td>\n",
       "      <td>...</td>\n",
       "      <td>...</td>\n",
       "    </tr>\n",
       "    <tr>\n",
       "      <th>52894</th>\n",
       "      <td>JosEPh cOx</td>\n",
       "      <td>23</td>\n",
       "      <td>Male</td>\n",
       "      <td>AB-</td>\n",
       "      <td>Diabetes</td>\n",
       "      <td>2019-10-13</td>\n",
       "      <td>Peter Smith</td>\n",
       "      <td>Inc Ward</td>\n",
       "      <td>Blue Cross</td>\n",
       "      <td>-353.865186</td>\n",
       "      <td>271</td>\n",
       "      <td>Elective</td>\n",
       "      <td>2019-10-25</td>\n",
       "      <td>Lipitor</td>\n",
       "      <td>Inconclusive</td>\n",
       "    </tr>\n",
       "    <tr>\n",
       "      <th>53204</th>\n",
       "      <td>AsHley WaRnER</td>\n",
       "      <td>55</td>\n",
       "      <td>Male</td>\n",
       "      <td>A+</td>\n",
       "      <td>Hypertension</td>\n",
       "      <td>2021-12-21</td>\n",
       "      <td>Andrea Bentley</td>\n",
       "      <td>and Wagner, Lee Klein</td>\n",
       "      <td>Aetna</td>\n",
       "      <td>-306.364925</td>\n",
       "      <td>426</td>\n",
       "      <td>Elective</td>\n",
       "      <td>2022-01-11</td>\n",
       "      <td>Ibuprofen</td>\n",
       "      <td>Normal</td>\n",
       "    </tr>\n",
       "    <tr>\n",
       "      <th>53232</th>\n",
       "      <td>dAnIel dRaKe</td>\n",
       "      <td>68</td>\n",
       "      <td>Female</td>\n",
       "      <td>B+</td>\n",
       "      <td>Hypertension</td>\n",
       "      <td>2020-04-24</td>\n",
       "      <td>Brett Ray</td>\n",
       "      <td>Carr Ltd</td>\n",
       "      <td>Aetna</td>\n",
       "      <td>-591.917419</td>\n",
       "      <td>426</td>\n",
       "      <td>Elective</td>\n",
       "      <td>2020-04-26</td>\n",
       "      <td>Lipitor</td>\n",
       "      <td>Abnormal</td>\n",
       "    </tr>\n",
       "    <tr>\n",
       "      <th>54136</th>\n",
       "      <td>DR. micHaEl MckAy</td>\n",
       "      <td>64</td>\n",
       "      <td>Male</td>\n",
       "      <td>O+</td>\n",
       "      <td>Cancer</td>\n",
       "      <td>2019-05-31</td>\n",
       "      <td>Dawn Navarro</td>\n",
       "      <td>Mcconnell and Rios, Clark</td>\n",
       "      <td>UnitedHealthcare</td>\n",
       "      <td>-199.663795</td>\n",
       "      <td>122</td>\n",
       "      <td>Urgent</td>\n",
       "      <td>2019-06-12</td>\n",
       "      <td>Ibuprofen</td>\n",
       "      <td>Abnormal</td>\n",
       "    </tr>\n",
       "    <tr>\n",
       "      <th>55276</th>\n",
       "      <td>JOhN fERRELl</td>\n",
       "      <td>58</td>\n",
       "      <td>Female</td>\n",
       "      <td>O-</td>\n",
       "      <td>Hypertension</td>\n",
       "      <td>2019-05-20</td>\n",
       "      <td>Randy Calderon</td>\n",
       "      <td>Inc Spencer</td>\n",
       "      <td>Medicare</td>\n",
       "      <td>-308.584269</td>\n",
       "      <td>394</td>\n",
       "      <td>Emergency</td>\n",
       "      <td>2019-05-27</td>\n",
       "      <td>Paracetamol</td>\n",
       "      <td>Inconclusive</td>\n",
       "    </tr>\n",
       "  </tbody>\n",
       "</table>\n",
       "<p>108 rows × 15 columns</p>\n",
       "</div>"
      ],
      "text/plain": [
       "                    Name  Age  Gender Blood Type Medical Condition  \\\n",
       "132      ashLEy ERIcKSoN   32  Female        AB-            Cancer   \n",
       "799    CHRisTOPHer wEiss   49  Female        AB-            Asthma   \n",
       "1018       AsHley WaRnER   60    Male         A+      Hypertension   \n",
       "1421        JAY galloWaY   74  Female         O+            Asthma   \n",
       "2103   josHUa wilLIamSon   72  Female         B-          Diabetes   \n",
       "...                  ...  ...     ...        ...               ...   \n",
       "52894         JosEPh cOx   23    Male        AB-          Diabetes   \n",
       "53204      AsHley WaRnER   55    Male         A+      Hypertension   \n",
       "53232       dAnIel dRaKe   68  Female         B+      Hypertension   \n",
       "54136  DR. micHaEl MckAy   64    Male         O+            Cancer   \n",
       "55276       JOhN fERRELl   58  Female         O-      Hypertension   \n",
       "\n",
       "      Date of Admission          Doctor                   Hospital  \\\n",
       "132          2019-11-05   Gerald Hooper  and Johnson Moore, Branch   \n",
       "799          2023-02-16  Kelly Thompson              Hunter-Hughes   \n",
       "1018         2021-12-21  Andrea Bentley      and Wagner, Lee Klein   \n",
       "1421         2021-01-20   Debra Everett               Group Peters   \n",
       "2103         2021-03-21     Wendy Ramos    and Huff Reeves, Dennis   \n",
       "...                 ...             ...                        ...   \n",
       "52894        2019-10-13     Peter Smith                   Inc Ward   \n",
       "53204        2021-12-21  Andrea Bentley      and Wagner, Lee Klein   \n",
       "53232        2020-04-24       Brett Ray                   Carr Ltd   \n",
       "54136        2019-05-31    Dawn Navarro  Mcconnell and Rios, Clark   \n",
       "55276        2019-05-20  Randy Calderon                Inc Spencer   \n",
       "\n",
       "      Insurance Provider  Billing Amount  Room Number Admission Type  \\\n",
       "132                Aetna     -502.507813          376         Urgent   \n",
       "799                Aetna    -1018.245371          204       Elective   \n",
       "1018               Aetna     -306.364925          426       Elective   \n",
       "1421          Blue Cross     -109.097122          381      Emergency   \n",
       "2103          Blue Cross     -576.727907          369         Urgent   \n",
       "...                  ...             ...          ...            ...   \n",
       "52894         Blue Cross     -353.865186          271       Elective   \n",
       "53204              Aetna     -306.364925          426       Elective   \n",
       "53232              Aetna     -591.917419          426       Elective   \n",
       "54136   UnitedHealthcare     -199.663795          122         Urgent   \n",
       "55276           Medicare     -308.584269          394      Emergency   \n",
       "\n",
       "      Discharge Date   Medication  Test Results  \n",
       "132       2019-11-23   Penicillin        Normal  \n",
       "799       2023-03-09   Penicillin  Inconclusive  \n",
       "1018      2022-01-11    Ibuprofen        Normal  \n",
       "1421      2021-02-09    Ibuprofen      Abnormal  \n",
       "2103      2021-04-17      Aspirin      Abnormal  \n",
       "...              ...          ...           ...  \n",
       "52894     2019-10-25      Lipitor  Inconclusive  \n",
       "53204     2022-01-11    Ibuprofen        Normal  \n",
       "53232     2020-04-26      Lipitor      Abnormal  \n",
       "54136     2019-06-12    Ibuprofen      Abnormal  \n",
       "55276     2019-05-27  Paracetamol  Inconclusive  \n",
       "\n",
       "[108 rows x 15 columns]"
      ]
     },
     "execution_count": 15,
     "metadata": {},
     "output_type": "execute_result"
    }
   ],
   "source": [
    "df[df['Billing Amount'] < 0] "
   ]
  },
  {
   "cell_type": "markdown",
   "id": "9492b0c7-5ed3-45fb-b664-e69f3f6bdab0",
   "metadata": {},
   "source": [
    "We can see that there are 108 patients with negative billing amounts. Before proceeding by cleaning any of the data, we will check if there are any trends related to the other categories that are shared among the patients with negative billing amounts."
   ]
  },
  {
   "cell_type": "code",
   "execution_count": 18,
   "id": "80162597-a505-4b9d-af5c-9c5c801a4407",
   "metadata": {},
   "outputs": [
    {
     "data": {
      "text/plain": [
       "Admission Type\n",
       "Elective     37\n",
       "Emergency    33\n",
       "Urgent       38\n",
       "dtype: int64"
      ]
     },
     "execution_count": 18,
     "metadata": {},
     "output_type": "execute_result"
    }
   ],
   "source": [
    "negative_billing_df = df[df['Billing Amount'] < 0]\n",
    "negative_billing_df.groupby('Admission Type').size()"
   ]
  },
  {
   "cell_type": "code",
   "execution_count": 19,
   "id": "4253fdde-2a38-4b7d-b63c-fe2e8cbbcd0d",
   "metadata": {},
   "outputs": [
    {
     "data": {
      "text/plain": [
       "Medical Condition\n",
       "Arthritis       11\n",
       "Asthma          18\n",
       "Cancer          19\n",
       "Diabetes        20\n",
       "Hypertension    21\n",
       "Obesity         19\n",
       "dtype: int64"
      ]
     },
     "execution_count": 19,
     "metadata": {},
     "output_type": "execute_result"
    }
   ],
   "source": [
    "negative_billing_df.groupby('Medical Condition').size()"
   ]
  },
  {
   "cell_type": "markdown",
   "id": "0e41d812-e840-4a5c-8a8d-1479678c527b",
   "metadata": {},
   "source": [
    "From the above distribution, there does not appear to be an overwhelming admission type or medical condition shared by those with negative billing amounts. To check a few more possible correlations, we can consider the distance between these patients' admission date and discharge date, as well as any particular doctors, hospitals, or insurance providers. Notice that by checking the distance between admission/discharge dates, we first must convert these to datetime objects (Objective #5 as listed above)."
   ]
  },
  {
   "cell_type": "code",
   "execution_count": 20,
   "id": "60267189-a89a-465b-b678-4df475bdb3d1",
   "metadata": {},
   "outputs": [
    {
     "data": {
      "text/html": [
       "<div>\n",
       "<style scoped>\n",
       "    .dataframe tbody tr th:only-of-type {\n",
       "        vertical-align: middle;\n",
       "    }\n",
       "\n",
       "    .dataframe tbody tr th {\n",
       "        vertical-align: top;\n",
       "    }\n",
       "\n",
       "    .dataframe thead th {\n",
       "        text-align: right;\n",
       "    }\n",
       "</style>\n",
       "<table border=\"1\" class=\"dataframe\">\n",
       "  <thead>\n",
       "    <tr style=\"text-align: right;\">\n",
       "      <th></th>\n",
       "      <th>Discharge_to_Admission_Days</th>\n",
       "      <th>Billing Amount</th>\n",
       "    </tr>\n",
       "  </thead>\n",
       "  <tbody>\n",
       "    <tr>\n",
       "      <th>count</th>\n",
       "      <td>108.000000</td>\n",
       "      <td>108.000000</td>\n",
       "    </tr>\n",
       "    <tr>\n",
       "      <th>mean</th>\n",
       "      <td>15.629630</td>\n",
       "      <td>-499.301242</td>\n",
       "    </tr>\n",
       "    <tr>\n",
       "      <th>std</th>\n",
       "      <td>8.723791</td>\n",
       "      <td>426.463202</td>\n",
       "    </tr>\n",
       "    <tr>\n",
       "      <th>min</th>\n",
       "      <td>1.000000</td>\n",
       "      <td>-2008.492140</td>\n",
       "    </tr>\n",
       "    <tr>\n",
       "      <th>25%</th>\n",
       "      <td>8.000000</td>\n",
       "      <td>-792.084802</td>\n",
       "    </tr>\n",
       "    <tr>\n",
       "      <th>50%</th>\n",
       "      <td>15.500000</td>\n",
       "      <td>-369.093816</td>\n",
       "    </tr>\n",
       "    <tr>\n",
       "      <th>75%</th>\n",
       "      <td>23.000000</td>\n",
       "      <td>-153.079565</td>\n",
       "    </tr>\n",
       "    <tr>\n",
       "      <th>max</th>\n",
       "      <td>30.000000</td>\n",
       "      <td>-23.866729</td>\n",
       "    </tr>\n",
       "  </tbody>\n",
       "</table>\n",
       "</div>"
      ],
      "text/plain": [
       "       Discharge_to_Admission_Days  Billing Amount\n",
       "count                   108.000000      108.000000\n",
       "mean                     15.629630     -499.301242\n",
       "std                       8.723791      426.463202\n",
       "min                       1.000000    -2008.492140\n",
       "25%                       8.000000     -792.084802\n",
       "50%                      15.500000     -369.093816\n",
       "75%                      23.000000     -153.079565\n",
       "max                      30.000000      -23.866729"
      ]
     },
     "execution_count": 20,
     "metadata": {},
     "output_type": "execute_result"
    }
   ],
   "source": [
    "df['Date of Admission'] = pd.to_datetime(df['Date of Admission'], errors='coerce')\n",
    "df['Discharge Date'] = pd.to_datetime(df['Discharge Date'], errors='coerce')\n",
    "\n",
    "df['Discharge_to_Admission_Days'] = (df['Discharge Date'] - df['Date of Admission']).dt.days\n",
    "\n",
    "negative_billing_df = df[df['Billing Amount'] < 0]\n",
    "negative_billing_df[['Discharge_to_Admission_Days', 'Billing Amount']].describe()"
   ]
  },
  {
   "cell_type": "code",
   "execution_count": 26,
   "id": "b4aadf5d-8578-4783-92bf-37f63bff2599",
   "metadata": {},
   "outputs": [
    {
     "data": {
      "text/html": [
       "<div>\n",
       "<style scoped>\n",
       "    .dataframe tbody tr th:only-of-type {\n",
       "        vertical-align: middle;\n",
       "    }\n",
       "\n",
       "    .dataframe tbody tr th {\n",
       "        vertical-align: top;\n",
       "    }\n",
       "\n",
       "    .dataframe thead th {\n",
       "        text-align: right;\n",
       "    }\n",
       "</style>\n",
       "<table border=\"1\" class=\"dataframe\">\n",
       "  <thead>\n",
       "    <tr style=\"text-align: right;\">\n",
       "      <th></th>\n",
       "      <th>Discharge_to_Admission_Days</th>\n",
       "      <th>Billing Amount</th>\n",
       "    </tr>\n",
       "  </thead>\n",
       "  <tbody>\n",
       "    <tr>\n",
       "      <th>count</th>\n",
       "      <td>55500.000000</td>\n",
       "      <td>55500.000000</td>\n",
       "    </tr>\n",
       "    <tr>\n",
       "      <th>mean</th>\n",
       "      <td>15.509009</td>\n",
       "      <td>25539.316097</td>\n",
       "    </tr>\n",
       "    <tr>\n",
       "      <th>std</th>\n",
       "      <td>8.659600</td>\n",
       "      <td>14211.454431</td>\n",
       "    </tr>\n",
       "    <tr>\n",
       "      <th>min</th>\n",
       "      <td>1.000000</td>\n",
       "      <td>-2008.492140</td>\n",
       "    </tr>\n",
       "    <tr>\n",
       "      <th>25%</th>\n",
       "      <td>8.000000</td>\n",
       "      <td>13241.224652</td>\n",
       "    </tr>\n",
       "    <tr>\n",
       "      <th>50%</th>\n",
       "      <td>15.000000</td>\n",
       "      <td>25538.069376</td>\n",
       "    </tr>\n",
       "    <tr>\n",
       "      <th>75%</th>\n",
       "      <td>23.000000</td>\n",
       "      <td>37820.508436</td>\n",
       "    </tr>\n",
       "    <tr>\n",
       "      <th>max</th>\n",
       "      <td>30.000000</td>\n",
       "      <td>52764.276736</td>\n",
       "    </tr>\n",
       "  </tbody>\n",
       "</table>\n",
       "</div>"
      ],
      "text/plain": [
       "       Discharge_to_Admission_Days  Billing Amount\n",
       "count                 55500.000000    55500.000000\n",
       "mean                     15.509009    25539.316097\n",
       "std                       8.659600    14211.454431\n",
       "min                       1.000000    -2008.492140\n",
       "25%                       8.000000    13241.224652\n",
       "50%                      15.000000    25538.069376\n",
       "75%                      23.000000    37820.508436\n",
       "max                      30.000000    52764.276736"
      ]
     },
     "execution_count": 26,
     "metadata": {},
     "output_type": "execute_result"
    }
   ],
   "source": [
    "#In comparison to the whole dataset\n",
    "df[['Discharge_to_Admission_Days', 'Billing Amount']].describe()"
   ]
  },
  {
   "cell_type": "code",
   "execution_count": 21,
   "id": "de4db59d-d7f1-4a34-b7fc-39eebe00ac60",
   "metadata": {},
   "outputs": [
    {
     "data": {
      "text/plain": [
       "Insurance Provider\n",
       "Aetna               27\n",
       "Blue Cross          16\n",
       "Cigna               24\n",
       "Medicare            22\n",
       "UnitedHealthcare    19\n",
       "dtype: int64"
      ]
     },
     "execution_count": 21,
     "metadata": {},
     "output_type": "execute_result"
    }
   ],
   "source": [
    "negative_billing_df.groupby('Insurance Provider').size()"
   ]
  },
  {
   "cell_type": "code",
   "execution_count": 22,
   "id": "0c476c29-27a5-4645-9142-a43d1beed5e0",
   "metadata": {},
   "outputs": [
    {
     "data": {
      "text/plain": [
       "Hospital\n",
       "Aguilar Inc                      1\n",
       "Anderson-Ball                    1\n",
       "Anderson-Moore                   1\n",
       "Armstrong LLC                    1\n",
       "Ayers-Smith                      1\n",
       "                                ..\n",
       "and Rosales, Macdonald Hanson    1\n",
       "and Sons Burns                   1\n",
       "and Wade, Huffman Arnold         2\n",
       "and Wagner, Lee Klein            2\n",
       "and Wright, Pham Nguyen          1\n",
       "Length: 96, dtype: int64"
      ]
     },
     "execution_count": 22,
     "metadata": {},
     "output_type": "execute_result"
    }
   ],
   "source": [
    "negative_billing_df.groupby('Hospital').size()"
   ]
  },
  {
   "cell_type": "code",
   "execution_count": 23,
   "id": "3d4ce36e-951c-4d55-8892-98c03e4415c1",
   "metadata": {},
   "outputs": [
    {
     "data": {
      "text/plain": [
       "Doctor\n",
       "Adam Pitts         1\n",
       "Alicia Thompson    1\n",
       "Allen Mcgrath      1\n",
       "Amanda Ramirez     1\n",
       "Amber Ochoa        1\n",
       "                  ..\n",
       "Tracy Brown        1\n",
       "Tracy Smith        1\n",
       "Vincent Cox        1\n",
       "Wendy Ramos        1\n",
       "William Krause     2\n",
       "Length: 96, dtype: int64"
      ]
     },
     "execution_count": 23,
     "metadata": {},
     "output_type": "execute_result"
    }
   ],
   "source": [
    "negative_billing_df.groupby('Doctor').size()"
   ]
  },
  {
   "cell_type": "markdown",
   "id": "d2bb0eb4-8ee5-4a90-b86a-ffe617ba373f",
   "metadata": {},
   "source": [
    "After examining the distribution of these negative billing amounts in relation to other variables within the dataset (such as admission types, dates, insurance providers, etc.), there do not appear to be any significant trends for patients with negative billing amounts. As such, the negative billing values will remain in the data, but the minimum value of -2008.492140 seems to be a potential outlier that will be investigated further in the following section."
   ]
  },
  {
   "cell_type": "markdown",
   "id": "4c026030-8787-4fc4-be96-b71e15cd75a1",
   "metadata": {},
   "source": [
    "# Potential Outliers in Numerical Columns"
   ]
  },
  {
   "cell_type": "markdown",
   "id": "3dd60631-ab16-4723-8a12-279a8a0fa00a",
   "metadata": {},
   "source": [
    "We will use a box plot, z-scores, and the interquartile range to identify any outliers in the numerical columns of data. Below, we will use a z-score of 3 as the cutoff to classify outliers."
   ]
  },
  {
   "cell_type": "code",
   "execution_count": 41,
   "id": "cf8fbb75-c4d3-4a85-b167-94eb1911b5ea",
   "metadata": {
    "scrolled": true
   },
   "outputs": [
    {
     "name": "stdout",
     "output_type": "stream",
     "text": [
      "Age                            0\n",
      "Billing Amount                 0\n",
      "Room Number                    0\n",
      "Discharge_to_Admission_Days    0\n",
      "dtype: int64\n"
     ]
    }
   ],
   "source": [
    "import seaborn as sns\n",
    "from scipy.stats import zscore\n",
    "numerical_columns = df.select_dtypes(include=['float64', 'int64']).columns\n",
    "z_scores = df[numerical_columns].apply(zscore)\n",
    "outliers = (abs(z_scores) > 3)\n",
    "print(outliers.sum())"
   ]
  },
  {
   "cell_type": "code",
   "execution_count": 47,
   "id": "816d8d3b-4f95-4233-af8a-17ef17ae04e1",
   "metadata": {},
   "outputs": [
    {
     "name": "stdout",
     "output_type": "stream",
     "text": [
      "{'Age': 0, 'Billing Amount': 0, 'Room Number': 0, 'Discharge_to_Admission_Days': 0}\n"
     ]
    }
   ],
   "source": [
    "outliercount = {}\n",
    "\n",
    "for column in numerical_columns:\n",
    "    Q1 = df[column].quantile(0.25)\n",
    "    Q3 = df[column].quantile(0.75)\n",
    "    IQR = Q3 - Q1\n",
    "\n",
    "    lowerbd = Q1 - 1.5*IQR\n",
    "    upperbd = Q3 + 1.5*IQR\n",
    "\n",
    "    outliers = df[(df[column] < lowerbd) | (df[column] > upperbd)]\n",
    "\n",
    "    outliercount[column] = outliers.shape[0]\n",
    "\n",
    "print(outliercount)"
   ]
  },
  {
   "cell_type": "code",
   "execution_count": 50,
   "id": "1853b06b-ee67-414b-bfeb-c312b72f1518",
   "metadata": {},
   "outputs": [
    {
     "data": {
      "image/png": "[encoded data removed]",
      "text/plain": [
       "<Figure size 800x400 with 1 Axes>"
      ]
     },
     "metadata": {},
     "output_type": "display_data"
    },
    {
     "data": {
      "image/png": "[encoded data removed]",
      "text/plain": [
       "<Figure size 800x400 with 1 Axes>"
      ]
     },
     "metadata": {},
     "output_type": "display_data"
    },
    {
     "data": {
      "image/png": "[encoded data removed]",
      "text/plain": [
       "<Figure size 800x400 with 1 Axes>"
      ]
     },
     "metadata": {},
     "output_type": "display_data"
    },
    {
     "data": {
      "image/png": "[encoded data removed]",
      "text/plain": [
       "<Figure size 800x400 with 1 Axes>"
      ]
     },
     "metadata": {},
     "output_type": "display_data"
    }
   ],
   "source": [
    "for column in numerical_columns:\n",
    "    plt.figure(figsize=(8,4))\n",
    "    sns.boxplot(df[column])\n",
    "    plt.title(f'Boxplot for {column}')\n",
    "    plt.show()"
   ]
  },
  {
   "cell_type": "markdown",
   "id": "8533c6b8-f062-4d6d-a08d-b4f0e15cb70e",
   "metadata": {},
   "source": [
    "From the above analysis with the use of z-scores, IQR calculations, and boxplots to visualize the data, we conclude that there are no outliers in the data. Considering that the data used is synthetic, it is possible that the data is idealized and purposely excludes outliers. We can also conclude that the minimum value in \"Billing Amounts\" was not an outlier, even though it raised attention initally. "
   ]
  },
  {
   "cell_type": "markdown",
   "id": "369db4a5-9ae8-4725-8bf3-a789738f1fcd",
   "metadata": {},
   "source": [
    "# Checking for Duplicates"
   ]
  },
  {
   "cell_type": "markdown",
   "id": "8cbc19d6-ef16-4711-80f0-6c1d68140c30",
   "metadata": {},
   "source": [
    "Next, we want to make sure that the data does not have any duplicates that may be affecting distributions and statistics. To do so, we run the following code:"
   ]
  },
  {
   "cell_type": "code",
   "execution_count": 58,
   "id": "00c43894-de06-474b-bdf3-da22266190bf",
   "metadata": {},
   "outputs": [
    {
     "name": "stdout",
     "output_type": "stream",
     "text": [
      "Duplicate rows:\n",
      "                     Name  Age  Gender Blood Type Medical Condition  \\\n",
      "50023        Samuel joYCe   56    Male         O+         Arthritis   \n",
      "50040    KIMBErly vasqueZ   26    Male         A-           Obesity   \n",
      "50055      SCoTT tHOrNton   55  Female         B-           Obesity   \n",
      "50070         wiLliam LEe   27  Female         O+         Arthritis   \n",
      "50078  chRistOPheR NoRrIs   38    Male        AB-         Arthritis   \n",
      "...                   ...  ...     ...        ...               ...   \n",
      "55461      connOR coMPTon   63    Male         A+            Asthma   \n",
      "55462       alYSsA mIlLER   35  Female         A-          Diabetes   \n",
      "55464        ChRIs huGHeS   35  Female        AB-           Obesity   \n",
      "55484     keNNEtH alvarez   80    Male         O+            Cancer   \n",
      "55491       lInDA grIFfin   47  Female         O+           Obesity   \n",
      "\n",
      "      Date of Admission             Doctor                    Hospital  \\\n",
      "50023        2022-11-03     Krista Hartman              Thomas-Ballard   \n",
      "50040        2023-10-23   Jennifer Bennett                   Cowan Inc   \n",
      "50055        2021-04-08      Joshua Ingram                  Keller LLC   \n",
      "50070        2020-01-31  Lauren Montgomery               Winters-Simon   \n",
      "50078        2023-01-14       Denise Blair                 Inc Morales   \n",
      "...                 ...                ...                         ...   \n",
      "55461        2021-08-21     Jonathan Allen  and Willis Mullins, Bowers   \n",
      "55462        2022-06-30         Ryan Price           Shelton-Gallagher   \n",
      "55464        2024-02-28      Katelyn Perry                Lyons-Hansen   \n",
      "55484        2022-05-05      Andrew Conner               Sons Mayo and   \n",
      "55491        2020-06-21     Danielle Davis    and King Jordan Johnson,   \n",
      "\n",
      "      Insurance Provider  Billing Amount  Room Number Admission Type  \\\n",
      "50023   UnitedHealthcare    15654.830587          157         Urgent   \n",
      "50040   UnitedHealthcare    38142.109678          313         Urgent   \n",
      "50055           Medicare    30894.904511          455         Urgent   \n",
      "50070              Cigna    46229.434901          153       Elective   \n",
      "50078           Medicare     9072.127142          452      Emergency   \n",
      "...                  ...             ...          ...            ...   \n",
      "55461           Medicare     1936.702824          375      Emergency   \n",
      "55462   UnitedHealthcare     2210.460898          289       Elective   \n",
      "55464         Blue Cross    11889.154513          128      Emergency   \n",
      "55484              Cigna    45653.802310          114       Elective   \n",
      "55491              Aetna    15715.551079          310      Emergency   \n",
      "\n",
      "      Discharge Date   Medication  Test Results  Discharge_to_Admission_Days  \n",
      "50023     2022-11-22      Aspirin  Inconclusive                           19  \n",
      "50040     2023-11-18   Penicillin      Abnormal                           26  \n",
      "50055     2021-04-15      Aspirin      Abnormal                            7  \n",
      "50070     2020-02-13      Lipitor        Normal                           13  \n",
      "50078     2023-02-12   Penicillin        Normal                           29  \n",
      "...              ...          ...           ...                          ...  \n",
      "55461     2021-09-16  Paracetamol        Normal                           26  \n",
      "55462     2022-07-27   Penicillin        Normal                           27  \n",
      "55464     2024-03-14  Paracetamol      Abnormal                           15  \n",
      "55484     2022-05-17      Aspirin        Normal                           12  \n",
      "55491     2020-06-25      Lipitor      Abnormal                            4  \n",
      "\n",
      "[534 rows x 16 columns]\n"
     ]
    }
   ],
   "source": [
    "duplicate_rows = df[df.duplicated()]\n",
    "print(\"Duplicate rows:\")\n",
    "print(duplicate_rows)"
   ]
  },
  {
   "cell_type": "code",
   "execution_count": 59,
   "id": "c01a1efb-fead-4be3-bd93-2a11977163f3",
   "metadata": {},
   "outputs": [
    {
     "name": "stdout",
     "output_type": "stream",
     "text": [
      "Rows left after dropping duplicates: 54966\n"
     ]
    }
   ],
   "source": [
    "df = df.drop_duplicates()\n",
    "print(f'Rows left after dropping duplicates: {df.shape[0]}')"
   ]
  },
  {
   "cell_type": "markdown",
   "id": "c7fd2e4d-cf9e-469f-9350-a05358bea922",
   "metadata": {},
   "source": [
    "After dropping duplicates, we can see that 34 rows were removed. The \"534 rows\" at the bottom of the previous output were not all exact duplicates, and could have been rows with some duplicate columns, but this is natural since it is likely certain values/results would be the same across different patients. We wish to remove all the rows that are exact duplicates, which the previous block of code has taken care of."
   ]
  },
  {
   "cell_type": "markdown",
   "id": "a2cd7cce-c3b3-4866-aac9-ff4af606ca41",
   "metadata": {},
   "source": [
    "# Exploring Potential Inconsistencies in Categorial Columns"
   ]
  },
  {
   "cell_type": "markdown",
   "id": "0739f646-e9fd-44f3-aafa-a362bf053070",
   "metadata": {},
   "source": [
    "Now that we have checked for outliers in the quantitative columns, we wish to verify that the categorical columns such as gender, blood type, doctor, admission type, etc. have consistent values in the rows. "
   ]
  },
  {
   "cell_type": "code",
   "execution_count": 63,
   "id": "df036865-2509-46d7-811a-7abc8df7d6de",
   "metadata": {},
   "outputs": [
    {
     "name": "stdout",
     "output_type": "stream",
     "text": [
      "No invalid values found in 'Gender'.\n",
      "No invalid values found in 'Blood Type'.\n",
      "No invalid values found in 'Medical Condition'.\n",
      "No invalid values found in 'Doctor'.\n",
      "No invalid values found in 'Hospital'.\n",
      "No invalid values found in 'Insurance Provider'.\n",
      "No invalid values found in 'Admission Type'.\n",
      "No invalid values found in 'Medication'.\n",
      "No invalid values found in 'Test Results'.\n"
     ]
    }
   ],
   "source": [
    "expected_values = {\n",
    "    \"Gender\": [\"Male\", \"Female\"],\n",
    "    \"Blood Type\": [\"A-\", \"A+\", \"B-\", \"B+\", \"AB-\", \"AB+\", \"O-\", \"O+\"],\n",
    "    \"Medical Condition\": [\"Cancer\", \"Obesity\", \"Diabetes\", \"Asthma\", \"Hypertension\", \"Arthritis\"],\n",
    "    \"Doctor\": None,  \n",
    "    \"Hospital\": None,  \n",
    "    \"Insurance Provider\": [\"Blue Cross\", \"Medicare\", \"Aetna\", \"UnitedHealthcare\", \"Cigna\"],\n",
    "    \"Admission Type\": [\"Urgent\", \"Emergency\", \"Elective\"],\n",
    "    \"Medication\": [\"Paracetamol\", \"Ibuprofen\", \"Aspirin\", \"Penicillin\", \"Lipitor\"],\n",
    "    \"Test Results\": [\"Normal\", \"Inconclusive\", \"Abnormal\"]\n",
    "}\n",
    "\n",
    "def check_invalid_values(column, expected_list):\n",
    "    if expected_list is None:\n",
    "        return []  # Skip if there's no predefined expected list (e.g., Doctor, Hospital)\n",
    "    invalid_values = set(column) - set(expected_list)\n",
    "    return list(invalid_values)\n",
    "\n",
    "for column, expected_list in expected_values.items():\n",
    "    invalid_values = check_invalid_values(df[column], expected_list)\n",
    "    if invalid_values:\n",
    "        print(f\"Invalid values in '{column}':\")\n",
    "        print(invalid_values)\n",
    "    else:\n",
    "        print(f\"No invalid values found in '{column}'.\")"
   ]
  },
  {
   "cell_type": "markdown",
   "id": "cb48e21c-be6d-4baa-9e9d-7008087ad146",
   "metadata": {},
   "source": [
    "From the above code, we have verified that there are no inconsistent values within the categorical columns, and we can proceed without worrying about them."
   ]
  },
  {
   "cell_type": "markdown",
   "id": "01dff8d5-4c3b-4345-beb1-16499a53a69f",
   "metadata": {},
   "source": [
    "As a reminder, the date of admission and discharge date columns were converted from object type to datetime when working with the negative billing amounts, so this has been successfully accounted for."
   ]
  },
  {
   "cell_type": "markdown",
   "id": "76bc803d-3b43-48ca-a9c0-04a4d8b2c646",
   "metadata": {},
   "source": [
    "# Linear Regression Model - Age vs Obesity Diagnosis "
   ]
  },
  {
   "cell_type": "code",
   "execution_count": null,
   "id": "50db7924-6d49-404e-9d56-54ae56d8686f",
   "metadata": {},
   "outputs": [],
   "source": []
  }
 ],
 "metadata": {
  "kernelspec": {
   "display_name": "Python 3 (ipykernel)",
   "language": "python",
   "name": "python3"
  },
  "language_info": {
   "codemirror_mode": {
    "name": "ipython",
    "version": 3
   },
   "file_extension": ".py",
   "mimetype": "text/x-python",
   "name": "python",
   "nbconvert_exporter": "python",
   "pygments_lexer": "ipython3",
   "version": "3.13.1"
  }
 },
 "nbformat": 4,
 "nbformat_minor": 5
}
