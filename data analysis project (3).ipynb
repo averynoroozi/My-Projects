{
 "cells": [
  {
   "cell_type": "markdown",
   "id": "13eb14e3-b8c0-4555-972c-0d93c93a6b7c",
   "metadata": {},
   "source": [
    "# Healthcare Analytics - Understanding Trends in Healthcare Data \n"
   ]
  },
  {
   "cell_type": "markdown",
   "id": "e80c420f-95dc-4814-b1ae-ec02a09d98dd",
   "metadata": {},
   "source": [
    "In this project, data will be pulled from: https://www.kaggle.com/datasets/prasad22/healthcare-dataset?resource=download \n",
    "\n",
    "To preface, it is important to note that the analyzed data is synthetic and created with the intention to imitate real healthcare data. In this project, we will first identify any potential issues with the data, clean the data, then build a logistic regression model to examine any relationship between gender and age and obesity diagnosis. We begin by importing the necessary libraries.\n"
   ]
  },
  {
   "cell_type": "code",
   "execution_count": 3,
   "id": "fce58c7b-24ed-43f3-b74f-aad14f2591e3",
   "metadata": {},
   "outputs": [],
   "source": [
    "import pandas as pd\n",
    "import matplotlib.pyplot as plt\n",
    "\n",
    "df = pd.read_csv('healthcare_dataset.csv')"
   ]
  },
  {
   "cell_type": "markdown",
   "id": "82b3ca9f-4c66-463a-bd4c-e0921362f72d",
   "metadata": {},
   "source": [
    "# General statistics and information "
   ]
  },
  {
   "cell_type": "code",
   "execution_count": 4,
   "id": "2c717e25-0e7b-41f0-8815-c28a47cf87c1",
   "metadata": {
    "scrolled": true
   },
   "outputs": [
    {
     "name": "stdout",
     "output_type": "stream",
     "text": [
      "<class 'pandas.core.frame.DataFrame'>\n",
      "RangeIndex: 55500 entries, 0 to 55499\n",
      "Data columns (total 15 columns):\n",
      " #   Column              Non-Null Count  Dtype  \n",
      "---  ------              --------------  -----  \n",
      " 0   Name                55500 non-null  object \n",
      " 1   Age                 55500 non-null  int64  \n",
      " 2   Gender              55500 non-null  object \n",
      " 3   Blood Type          55500 non-null  object \n",
      " 4   Medical Condition   55500 non-null  object \n",
      " 5   Date of Admission   55500 non-null  object \n",
      " 6   Doctor              55500 non-null  object \n",
      " 7   Hospital            55500 non-null  object \n",
      " 8   Insurance Provider  55500 non-null  object \n",
      " 9   Billing Amount      55500 non-null  float64\n",
      " 10  Room Number         55500 non-null  int64  \n",
      " 11  Admission Type      55500 non-null  object \n",
      " 12  Discharge Date      55500 non-null  object \n",
      " 13  Medication          55500 non-null  object \n",
      " 14  Test Results        55500 non-null  object \n",
      "dtypes: float64(1), int64(2), object(12)\n",
      "memory usage: 6.4+ MB\n",
      "None\n",
      "                Age  Billing Amount   Room Number\n",
      "count  55500.000000    55500.000000  55500.000000\n",
      "mean      51.539459    25539.316097    301.134829\n",
      "std       19.602454    14211.454431    115.243069\n",
      "min       13.000000    -2008.492140    101.000000\n",
      "25%       35.000000    13241.224652    202.000000\n",
      "50%       52.000000    25538.069376    302.000000\n",
      "75%       68.000000    37820.508436    401.000000\n",
      "max       89.000000    52764.276736    500.000000\n"
     ]
    }
   ],
   "source": [
    "print(df.info())\n",
    "print(df.describe())"
   ]
  },
  {
   "cell_type": "markdown",
   "id": "e4b44841-86d6-4d15-8728-4aa2c0b94971",
   "metadata": {},
   "source": [
    "Here, we see that the given dataset contains 55,500 entries and 15 columns, with no missing values. \n",
    "\n",
    "The data contains both quantitative and categorical data, and the bottom section of the output describes the mean, standard deviation, and quartiles of the quantitative columns."
   ]
  },
  {
   "cell_type": "markdown",
   "id": "d983ace6-da2b-4264-a346-678346154f62",
   "metadata": {},
   "source": [
    "# Identifying Potential Issues and Cleaning the Data "
   ]
  },
  {
   "cell_type": "markdown",
   "id": "9295c6aa-34b2-4153-b146-8e91b7ddc264",
   "metadata": {},
   "source": [
    "There are a few potential issues and precautions that we will address when considering the data's statistics:\n",
    "\n",
    "1. The minimum billing amount is -2008.492140. A negative billing amount is atypical, and raises attention to the impact of negative billing amounts on the data.\n",
    "2. Potential outliers considering the size of the dataset.\n",
    "3. Ensure no presence of duplicates.\n",
    "4. Ensure that there are no inconsistencies in the types of data in the categorical columns.\n",
    "5. Columns using date-related data should be of datetime type, not object type."
   ]
  },
  {
   "cell_type": "markdown",
   "id": "c2872fea-8014-48cf-bc7a-0867756a0fb4",
   "metadata": {},
   "source": [
    "# Negative Billing Amounts"
   ]
  },
  {
   "cell_type": "code",
   "execution_count": 5,
   "id": "bc9b61d6-000f-4da7-a099-675a61ab3a14",
   "metadata": {},
   "outputs": [
    {
     "data": {
      "text/html": [
       "<div>\n",
       "<style scoped>\n",
       "    .dataframe tbody tr th:only-of-type {\n",
       "        vertical-align: middle;\n",
       "    }\n",
       "\n",
       "    .dataframe tbody tr th {\n",
       "        vertical-align: top;\n",
       "    }\n",
       "\n",
       "    .dataframe thead th {\n",
       "        text-align: right;\n",
       "    }\n",
       "</style>\n",
       "<table border=\"1\" class=\"dataframe\">\n",
       "  <thead>\n",
       "    <tr style=\"text-align: right;\">\n",
       "      <th></th>\n",
       "      <th>Name</th>\n",
       "      <th>Age</th>\n",
       "      <th>Gender</th>\n",
       "      <th>Blood Type</th>\n",
       "      <th>Medical Condition</th>\n",
       "      <th>Date of Admission</th>\n",
       "      <th>Doctor</th>\n",
       "      <th>Hospital</th>\n",
       "      <th>Insurance Provider</th>\n",
       "      <th>Billing Amount</th>\n",
       "      <th>Room Number</th>\n",
       "      <th>Admission Type</th>\n",
       "      <th>Discharge Date</th>\n",
       "      <th>Medication</th>\n",
       "      <th>Test Results</th>\n",
       "    </tr>\n",
       "  </thead>\n",
       "  <tbody>\n",
       "    <tr>\n",
       "      <th>132</th>\n",
       "      <td>ashLEy ERIcKSoN</td>\n",
       "      <td>32</td>\n",
       "      <td>Female</td>\n",
       "      <td>AB-</td>\n",
       "      <td>Cancer</td>\n",
       "      <td>2019-11-05</td>\n",
       "      <td>Gerald Hooper</td>\n",
       "      <td>and Johnson Moore, Branch</td>\n",
       "      <td>Aetna</td>\n",
       "      <td>-502.507813</td>\n",
       "      <td>376</td>\n",
       "      <td>Urgent</td>\n",
       "      <td>2019-11-23</td>\n",
       "      <td>Penicillin</td>\n",
       "      <td>Normal</td>\n",
       "    </tr>\n",
       "    <tr>\n",
       "      <th>799</th>\n",
       "      <td>CHRisTOPHer wEiss</td>\n",
       "      <td>49</td>\n",
       "      <td>Female</td>\n",
       "      <td>AB-</td>\n",
       "      <td>Asthma</td>\n",
       "      <td>2023-02-16</td>\n",
       "      <td>Kelly Thompson</td>\n",
       "      <td>Hunter-Hughes</td>\n",
       "      <td>Aetna</td>\n",
       "      <td>-1018.245371</td>\n",
       "      <td>204</td>\n",
       "      <td>Elective</td>\n",
       "      <td>2023-03-09</td>\n",
       "      <td>Penicillin</td>\n",
       "      <td>Inconclusive</td>\n",
       "    </tr>\n",
       "    <tr>\n",
       "      <th>1018</th>\n",
       "      <td>AsHley WaRnER</td>\n",
       "      <td>60</td>\n",
       "      <td>Male</td>\n",
       "      <td>A+</td>\n",
       "      <td>Hypertension</td>\n",
       "      <td>2021-12-21</td>\n",
       "      <td>Andrea Bentley</td>\n",
       "      <td>and Wagner, Lee Klein</td>\n",
       "      <td>Aetna</td>\n",
       "      <td>-306.364925</td>\n",
       "      <td>426</td>\n",
       "      <td>Elective</td>\n",
       "      <td>2022-01-11</td>\n",
       "      <td>Ibuprofen</td>\n",
       "      <td>Normal</td>\n",
       "    </tr>\n",
       "    <tr>\n",
       "      <th>1421</th>\n",
       "      <td>JAY galloWaY</td>\n",
       "      <td>74</td>\n",
       "      <td>Female</td>\n",
       "      <td>O+</td>\n",
       "      <td>Asthma</td>\n",
       "      <td>2021-01-20</td>\n",
       "      <td>Debra Everett</td>\n",
       "      <td>Group Peters</td>\n",
       "      <td>Blue Cross</td>\n",
       "      <td>-109.097122</td>\n",
       "      <td>381</td>\n",
       "      <td>Emergency</td>\n",
       "      <td>2021-02-09</td>\n",
       "      <td>Ibuprofen</td>\n",
       "      <td>Abnormal</td>\n",
       "    </tr>\n",
       "    <tr>\n",
       "      <th>2103</th>\n",
       "      <td>josHUa wilLIamSon</td>\n",
       "      <td>72</td>\n",
       "      <td>Female</td>\n",
       "      <td>B-</td>\n",
       "      <td>Diabetes</td>\n",
       "      <td>2021-03-21</td>\n",
       "      <td>Wendy Ramos</td>\n",
       "      <td>and Huff Reeves, Dennis</td>\n",
       "      <td>Blue Cross</td>\n",
       "      <td>-576.727907</td>\n",
       "      <td>369</td>\n",
       "      <td>Urgent</td>\n",
       "      <td>2021-04-17</td>\n",
       "      <td>Aspirin</td>\n",
       "      <td>Abnormal</td>\n",
       "    </tr>\n",
       "    <tr>\n",
       "      <th>...</th>\n",
       "      <td>...</td>\n",
       "      <td>...</td>\n",
       "      <td>...</td>\n",
       "      <td>...</td>\n",
       "      <td>...</td>\n",
       "      <td>...</td>\n",
       "      <td>...</td>\n",
       "      <td>...</td>\n",
       "      <td>...</td>\n",
       "      <td>...</td>\n",
       "      <td>...</td>\n",
       "      <td>...</td>\n",
       "      <td>...</td>\n",
       "      <td>...</td>\n",
       "      <td>...</td>\n",
       "    </tr>\n",
       "    <tr>\n",
       "      <th>52894</th>\n",
       "      <td>JosEPh cOx</td>\n",
       "      <td>23</td>\n",
       "      <td>Male</td>\n",
       "      <td>AB-</td>\n",
       "      <td>Diabetes</td>\n",
       "      <td>2019-10-13</td>\n",
       "      <td>Peter Smith</td>\n",
       "      <td>Inc Ward</td>\n",
       "      <td>Blue Cross</td>\n",
       "      <td>-353.865186</td>\n",
       "      <td>271</td>\n",
       "      <td>Elective</td>\n",
       "      <td>2019-10-25</td>\n",
       "      <td>Lipitor</td>\n",
       "      <td>Inconclusive</td>\n",
       "    </tr>\n",
       "    <tr>\n",
       "      <th>53204</th>\n",
       "      <td>AsHley WaRnER</td>\n",
       "      <td>55</td>\n",
       "      <td>Male</td>\n",
       "      <td>A+</td>\n",
       "      <td>Hypertension</td>\n",
       "      <td>2021-12-21</td>\n",
       "      <td>Andrea Bentley</td>\n",
       "      <td>and Wagner, Lee Klein</td>\n",
       "      <td>Aetna</td>\n",
       "      <td>-306.364925</td>\n",
       "      <td>426</td>\n",
       "      <td>Elective</td>\n",
       "      <td>2022-01-11</td>\n",
       "      <td>Ibuprofen</td>\n",
       "      <td>Normal</td>\n",
       "    </tr>\n",
       "    <tr>\n",
       "      <th>53232</th>\n",
       "      <td>dAnIel dRaKe</td>\n",
       "      <td>68</td>\n",
       "      <td>Female</td>\n",
       "      <td>B+</td>\n",
       "      <td>Hypertension</td>\n",
       "      <td>2020-04-24</td>\n",
       "      <td>Brett Ray</td>\n",
       "      <td>Carr Ltd</td>\n",
       "      <td>Aetna</td>\n",
       "      <td>-591.917419</td>\n",
       "      <td>426</td>\n",
       "      <td>Elective</td>\n",
       "      <td>2020-04-26</td>\n",
       "      <td>Lipitor</td>\n",
       "      <td>Abnormal</td>\n",
       "    </tr>\n",
       "    <tr>\n",
       "      <th>54136</th>\n",
       "      <td>DR. micHaEl MckAy</td>\n",
       "      <td>64</td>\n",
       "      <td>Male</td>\n",
       "      <td>O+</td>\n",
       "      <td>Cancer</td>\n",
       "      <td>2019-05-31</td>\n",
       "      <td>Dawn Navarro</td>\n",
       "      <td>Mcconnell and Rios, Clark</td>\n",
       "      <td>UnitedHealthcare</td>\n",
       "      <td>-199.663795</td>\n",
       "      <td>122</td>\n",
       "      <td>Urgent</td>\n",
       "      <td>2019-06-12</td>\n",
       "      <td>Ibuprofen</td>\n",
       "      <td>Abnormal</td>\n",
       "    </tr>\n",
       "    <tr>\n",
       "      <th>55276</th>\n",
       "      <td>JOhN fERRELl</td>\n",
       "      <td>58</td>\n",
       "      <td>Female</td>\n",
       "      <td>O-</td>\n",
       "      <td>Hypertension</td>\n",
       "      <td>2019-05-20</td>\n",
       "      <td>Randy Calderon</td>\n",
       "      <td>Inc Spencer</td>\n",
       "      <td>Medicare</td>\n",
       "      <td>-308.584269</td>\n",
       "      <td>394</td>\n",
       "      <td>Emergency</td>\n",
       "      <td>2019-05-27</td>\n",
       "      <td>Paracetamol</td>\n",
       "      <td>Inconclusive</td>\n",
       "    </tr>\n",
       "  </tbody>\n",
       "</table>\n",
       "<p>108 rows × 15 columns</p>\n",
       "</div>"
      ],
      "text/plain": [
       "                    Name  Age  Gender Blood Type Medical Condition  \\\n",
       "132      ashLEy ERIcKSoN   32  Female        AB-            Cancer   \n",
       "799    CHRisTOPHer wEiss   49  Female        AB-            Asthma   \n",
       "1018       AsHley WaRnER   60    Male         A+      Hypertension   \n",
       "1421        JAY galloWaY   74  Female         O+            Asthma   \n",
       "2103   josHUa wilLIamSon   72  Female         B-          Diabetes   \n",
       "...                  ...  ...     ...        ...               ...   \n",
       "52894         JosEPh cOx   23    Male        AB-          Diabetes   \n",
       "53204      AsHley WaRnER   55    Male         A+      Hypertension   \n",
       "53232       dAnIel dRaKe   68  Female         B+      Hypertension   \n",
       "54136  DR. micHaEl MckAy   64    Male         O+            Cancer   \n",
       "55276       JOhN fERRELl   58  Female         O-      Hypertension   \n",
       "\n",
       "      Date of Admission          Doctor                   Hospital  \\\n",
       "132          2019-11-05   Gerald Hooper  and Johnson Moore, Branch   \n",
       "799          2023-02-16  Kelly Thompson              Hunter-Hughes   \n",
       "1018         2021-12-21  Andrea Bentley      and Wagner, Lee Klein   \n",
       "1421         2021-01-20   Debra Everett               Group Peters   \n",
       "2103         2021-03-21     Wendy Ramos    and Huff Reeves, Dennis   \n",
       "...                 ...             ...                        ...   \n",
       "52894        2019-10-13     Peter Smith                   Inc Ward   \n",
       "53204        2021-12-21  Andrea Bentley      and Wagner, Lee Klein   \n",
       "53232        2020-04-24       Brett Ray                   Carr Ltd   \n",
       "54136        2019-05-31    Dawn Navarro  Mcconnell and Rios, Clark   \n",
       "55276        2019-05-20  Randy Calderon                Inc Spencer   \n",
       "\n",
       "      Insurance Provider  Billing Amount  Room Number Admission Type  \\\n",
       "132                Aetna     -502.507813          376         Urgent   \n",
       "799                Aetna    -1018.245371          204       Elective   \n",
       "1018               Aetna     -306.364925          426       Elective   \n",
       "1421          Blue Cross     -109.097122          381      Emergency   \n",
       "2103          Blue Cross     -576.727907          369         Urgent   \n",
       "...                  ...             ...          ...            ...   \n",
       "52894         Blue Cross     -353.865186          271       Elective   \n",
       "53204              Aetna     -306.364925          426       Elective   \n",
       "53232              Aetna     -591.917419          426       Elective   \n",
       "54136   UnitedHealthcare     -199.663795          122         Urgent   \n",
       "55276           Medicare     -308.584269          394      Emergency   \n",
       "\n",
       "      Discharge Date   Medication  Test Results  \n",
       "132       2019-11-23   Penicillin        Normal  \n",
       "799       2023-03-09   Penicillin  Inconclusive  \n",
       "1018      2022-01-11    Ibuprofen        Normal  \n",
       "1421      2021-02-09    Ibuprofen      Abnormal  \n",
       "2103      2021-04-17      Aspirin      Abnormal  \n",
       "...              ...          ...           ...  \n",
       "52894     2019-10-25      Lipitor  Inconclusive  \n",
       "53204     2022-01-11    Ibuprofen        Normal  \n",
       "53232     2020-04-26      Lipitor      Abnormal  \n",
       "54136     2019-06-12    Ibuprofen      Abnormal  \n",
       "55276     2019-05-27  Paracetamol  Inconclusive  \n",
       "\n",
       "[108 rows x 15 columns]"
      ]
     },
     "execution_count": 5,
     "metadata": {},
     "output_type": "execute_result"
    }
   ],
   "source": [
    "df[df['Billing Amount'] < 0] "
   ]
  },
  {
   "cell_type": "markdown",
   "id": "9492b0c7-5ed3-45fb-b664-e69f3f6bdab0",
   "metadata": {},
   "source": [
    "We can see that there are 108 patients with negative billing amounts. Before proceeding by cleaning any of the data, we will check if there are any trends related to the other categories that are shared among the patients with negative billing amounts."
   ]
  },
  {
   "cell_type": "code",
   "execution_count": 6,
   "id": "80162597-a505-4b9d-af5c-9c5c801a4407",
   "metadata": {},
   "outputs": [
    {
     "data": {
      "text/plain": [
       "Admission Type\n",
       "Elective     37\n",
       "Emergency    33\n",
       "Urgent       38\n",
       "dtype: int64"
      ]
     },
     "execution_count": 6,
     "metadata": {},
     "output_type": "execute_result"
    }
   ],
   "source": [
    "negative_billing_df = df[df['Billing Amount'] < 0]\n",
    "negative_billing_df.groupby('Admission Type').size()"
   ]
  },
  {
   "cell_type": "code",
   "execution_count": 7,
   "id": "4253fdde-2a38-4b7d-b63c-fe2e8cbbcd0d",
   "metadata": {},
   "outputs": [
    {
     "data": {
      "text/plain": [
       "Medical Condition\n",
       "Arthritis       11\n",
       "Asthma          18\n",
       "Cancer          19\n",
       "Diabetes        20\n",
       "Hypertension    21\n",
       "Obesity         19\n",
       "dtype: int64"
      ]
     },
     "execution_count": 7,
     "metadata": {},
     "output_type": "execute_result"
    }
   ],
   "source": [
    "negative_billing_df.groupby('Medical Condition').size()"
   ]
  },
  {
   "cell_type": "markdown",
   "id": "0e41d812-e840-4a5c-8a8d-1479678c527b",
   "metadata": {},
   "source": [
    "From the above distribution, there does not appear to be an overwhelming admission type or medical condition shared by those with negative billing amounts. To check a few more possible correlations, we can consider the distance between these patients' admission date and discharge date, as well as any particular doctors, hospitals, or insurance providers. Notice that by checking the distance between admission/discharge dates, we first must convert these to datetime objects (Objective #5 as listed above)."
   ]
  },
  {
   "cell_type": "code",
   "execution_count": 8,
   "id": "60267189-a89a-465b-b678-4df475bdb3d1",
   "metadata": {},
   "outputs": [
    {
     "data": {
      "text/html": [
       "<div>\n",
       "<style scoped>\n",
       "    .dataframe tbody tr th:only-of-type {\n",
       "        vertical-align: middle;\n",
       "    }\n",
       "\n",
       "    .dataframe tbody tr th {\n",
       "        vertical-align: top;\n",
       "    }\n",
       "\n",
       "    .dataframe thead th {\n",
       "        text-align: right;\n",
       "    }\n",
       "</style>\n",
       "<table border=\"1\" class=\"dataframe\">\n",
       "  <thead>\n",
       "    <tr style=\"text-align: right;\">\n",
       "      <th></th>\n",
       "      <th>Discharge_to_Admission_Days</th>\n",
       "      <th>Billing Amount</th>\n",
       "    </tr>\n",
       "  </thead>\n",
       "  <tbody>\n",
       "    <tr>\n",
       "      <th>count</th>\n",
       "      <td>108.000000</td>\n",
       "      <td>108.000000</td>\n",
       "    </tr>\n",
       "    <tr>\n",
       "      <th>mean</th>\n",
       "      <td>15.629630</td>\n",
       "      <td>-499.301242</td>\n",
       "    </tr>\n",
       "    <tr>\n",
       "      <th>std</th>\n",
       "      <td>8.723791</td>\n",
       "      <td>426.463202</td>\n",
       "    </tr>\n",
       "    <tr>\n",
       "      <th>min</th>\n",
       "      <td>1.000000</td>\n",
       "      <td>-2008.492140</td>\n",
       "    </tr>\n",
       "    <tr>\n",
       "      <th>25%</th>\n",
       "      <td>8.000000</td>\n",
       "      <td>-792.084802</td>\n",
       "    </tr>\n",
       "    <tr>\n",
       "      <th>50%</th>\n",
       "      <td>15.500000</td>\n",
       "      <td>-369.093816</td>\n",
       "    </tr>\n",
       "    <tr>\n",
       "      <th>75%</th>\n",
       "      <td>23.000000</td>\n",
       "      <td>-153.079565</td>\n",
       "    </tr>\n",
       "    <tr>\n",
       "      <th>max</th>\n",
       "      <td>30.000000</td>\n",
       "      <td>-23.866729</td>\n",
       "    </tr>\n",
       "  </tbody>\n",
       "</table>\n",
       "</div>"
      ],
      "text/plain": [
       "       Discharge_to_Admission_Days  Billing Amount\n",
       "count                   108.000000      108.000000\n",
       "mean                     15.629630     -499.301242\n",
       "std                       8.723791      426.463202\n",
       "min                       1.000000    -2008.492140\n",
       "25%                       8.000000     -792.084802\n",
       "50%                      15.500000     -369.093816\n",
       "75%                      23.000000     -153.079565\n",
       "max                      30.000000      -23.866729"
      ]
     },
     "execution_count": 8,
     "metadata": {},
     "output_type": "execute_result"
    }
   ],
   "source": [
    "df['Date of Admission'] = pd.to_datetime(df['Date of Admission'], errors='coerce')\n",
    "df['Discharge Date'] = pd.to_datetime(df['Discharge Date'], errors='coerce')\n",
    "\n",
    "df['Discharge_to_Admission_Days'] = (df['Discharge Date'] - df['Date of Admission']).dt.days\n",
    "\n",
    "negative_billing_df = df[df['Billing Amount'] < 0]\n",
    "negative_billing_df[['Discharge_to_Admission_Days', 'Billing Amount']].describe()"
   ]
  },
  {
   "cell_type": "code",
   "execution_count": 9,
   "id": "b4aadf5d-8578-4783-92bf-37f63bff2599",
   "metadata": {},
   "outputs": [
    {
     "data": {
      "text/html": [
       "<div>\n",
       "<style scoped>\n",
       "    .dataframe tbody tr th:only-of-type {\n",
       "        vertical-align: middle;\n",
       "    }\n",
       "\n",
       "    .dataframe tbody tr th {\n",
       "        vertical-align: top;\n",
       "    }\n",
       "\n",
       "    .dataframe thead th {\n",
       "        text-align: right;\n",
       "    }\n",
       "</style>\n",
       "<table border=\"1\" class=\"dataframe\">\n",
       "  <thead>\n",
       "    <tr style=\"text-align: right;\">\n",
       "      <th></th>\n",
       "      <th>Discharge_to_Admission_Days</th>\n",
       "      <th>Billing Amount</th>\n",
       "    </tr>\n",
       "  </thead>\n",
       "  <tbody>\n",
       "    <tr>\n",
       "      <th>count</th>\n",
       "      <td>55500.000000</td>\n",
       "      <td>55500.000000</td>\n",
       "    </tr>\n",
       "    <tr>\n",
       "      <th>mean</th>\n",
       "      <td>15.509009</td>\n",
       "      <td>25539.316097</td>\n",
       "    </tr>\n",
       "    <tr>\n",
       "      <th>std</th>\n",
       "      <td>8.659600</td>\n",
       "      <td>14211.454431</td>\n",
       "    </tr>\n",
       "    <tr>\n",
       "      <th>min</th>\n",
       "      <td>1.000000</td>\n",
       "      <td>-2008.492140</td>\n",
       "    </tr>\n",
       "    <tr>\n",
       "      <th>25%</th>\n",
       "      <td>8.000000</td>\n",
       "      <td>13241.224652</td>\n",
       "    </tr>\n",
       "    <tr>\n",
       "      <th>50%</th>\n",
       "      <td>15.000000</td>\n",
       "      <td>25538.069376</td>\n",
       "    </tr>\n",
       "    <tr>\n",
       "      <th>75%</th>\n",
       "      <td>23.000000</td>\n",
       "      <td>37820.508436</td>\n",
       "    </tr>\n",
       "    <tr>\n",
       "      <th>max</th>\n",
       "      <td>30.000000</td>\n",
       "      <td>52764.276736</td>\n",
       "    </tr>\n",
       "  </tbody>\n",
       "</table>\n",
       "</div>"
      ],
      "text/plain": [
       "       Discharge_to_Admission_Days  Billing Amount\n",
       "count                 55500.000000    55500.000000\n",
       "mean                     15.509009    25539.316097\n",
       "std                       8.659600    14211.454431\n",
       "min                       1.000000    -2008.492140\n",
       "25%                       8.000000    13241.224652\n",
       "50%                      15.000000    25538.069376\n",
       "75%                      23.000000    37820.508436\n",
       "max                      30.000000    52764.276736"
      ]
     },
     "execution_count": 9,
     "metadata": {},
     "output_type": "execute_result"
    }
   ],
   "source": [
    "#In comparison to the whole dataset\n",
    "df[['Discharge_to_Admission_Days', 'Billing Amount']].describe()"
   ]
  },
  {
   "cell_type": "code",
   "execution_count": 10,
   "id": "de4db59d-d7f1-4a34-b7fc-39eebe00ac60",
   "metadata": {},
   "outputs": [
    {
     "data": {
      "text/plain": [
       "Insurance Provider\n",
       "Aetna               27\n",
       "Blue Cross          16\n",
       "Cigna               24\n",
       "Medicare            22\n",
       "UnitedHealthcare    19\n",
       "dtype: int64"
      ]
     },
     "execution_count": 10,
     "metadata": {},
     "output_type": "execute_result"
    }
   ],
   "source": [
    "negative_billing_df.groupby('Insurance Provider').size()"
   ]
  },
  {
   "cell_type": "code",
   "execution_count": 11,
   "id": "0c476c29-27a5-4645-9142-a43d1beed5e0",
   "metadata": {},
   "outputs": [
    {
     "data": {
      "text/plain": [
       "Hospital\n",
       "Aguilar Inc                      1\n",
       "Anderson-Ball                    1\n",
       "Anderson-Moore                   1\n",
       "Armstrong LLC                    1\n",
       "Ayers-Smith                      1\n",
       "                                ..\n",
       "and Rosales, Macdonald Hanson    1\n",
       "and Sons Burns                   1\n",
       "and Wade, Huffman Arnold         2\n",
       "and Wagner, Lee Klein            2\n",
       "and Wright, Pham Nguyen          1\n",
       "Length: 96, dtype: int64"
      ]
     },
     "execution_count": 11,
     "metadata": {},
     "output_type": "execute_result"
    }
   ],
   "source": [
    "negative_billing_df.groupby('Hospital').size()"
   ]
  },
  {
   "cell_type": "code",
   "execution_count": 12,
   "id": "3d4ce36e-951c-4d55-8892-98c03e4415c1",
   "metadata": {},
   "outputs": [
    {
     "data": {
      "text/plain": [
       "Doctor\n",
       "Adam Pitts         1\n",
       "Alicia Thompson    1\n",
       "Allen Mcgrath      1\n",
       "Amanda Ramirez     1\n",
       "Amber Ochoa        1\n",
       "                  ..\n",
       "Tracy Brown        1\n",
       "Tracy Smith        1\n",
       "Vincent Cox        1\n",
       "Wendy Ramos        1\n",
       "William Krause     2\n",
       "Length: 96, dtype: int64"
      ]
     },
     "execution_count": 12,
     "metadata": {},
     "output_type": "execute_result"
    }
   ],
   "source": [
    "negative_billing_df.groupby('Doctor').size()"
   ]
  },
  {
   "cell_type": "markdown",
   "id": "d2bb0eb4-8ee5-4a90-b86a-ffe617ba373f",
   "metadata": {},
   "source": [
    "After examining the distribution of these negative billing amounts in relation to other variables within the dataset (such as admission types, dates, insurance providers, etc.), there do not appear to be any significant trends for patients with negative billing amounts. As such, the negative billing values will remain in the data, but the minimum value of -2008.492140 seems to be a potential outlier that will be investigated further in the following section."
   ]
  },
  {
   "cell_type": "markdown",
   "id": "4c026030-8787-4fc4-be96-b71e15cd75a1",
   "metadata": {},
   "source": [
    "# Potential Outliers in Numerical Columns"
   ]
  },
  {
   "cell_type": "markdown",
   "id": "3dd60631-ab16-4723-8a12-279a8a0fa00a",
   "metadata": {},
   "source": [
    "We will use a box plot, z-scores, and the interquartile range to identify any outliers in the numerical columns of data. Below, we will use a z-score of 3 as the cutoff to classify outliers."
   ]
  },
  {
   "cell_type": "code",
   "execution_count": 13,
   "id": "cf8fbb75-c4d3-4a85-b167-94eb1911b5ea",
   "metadata": {
    "scrolled": true
   },
   "outputs": [
    {
     "name": "stdout",
     "output_type": "stream",
     "text": [
      "Age                            0\n",
      "Billing Amount                 0\n",
      "Room Number                    0\n",
      "Discharge_to_Admission_Days    0\n",
      "dtype: int64\n"
     ]
    }
   ],
   "source": [
    "import seaborn as sns\n",
    "from scipy.stats import zscore\n",
    "numerical_columns = df.select_dtypes(include=['float64', 'int64']).columns\n",
    "z_scores = df[numerical_columns].apply(zscore)\n",
    "outliers = (abs(z_scores) > 3)\n",
    "print(outliers.sum())"
   ]
  },
  {
   "cell_type": "code",
   "execution_count": 14,
   "id": "816d8d3b-4f95-4233-af8a-17ef17ae04e1",
   "metadata": {},
   "outputs": [
    {
     "name": "stdout",
     "output_type": "stream",
     "text": [
      "{'Age': 0, 'Billing Amount': 0, 'Room Number': 0, 'Discharge_to_Admission_Days': 0}\n"
     ]
    }
   ],
   "source": [
    "outliercount = {}\n",
    "\n",
    "for column in numerical_columns:\n",
    "    Q1 = df[column].quantile(0.25)\n",
    "    Q3 = df[column].quantile(0.75)\n",
    "    IQR = Q3 - Q1\n",
    "\n",
    "    lowerbd = Q1 - 1.5*IQR\n",
    "    upperbd = Q3 + 1.5*IQR\n",
    "\n",
    "    outliers = df[(df[column] < lowerbd) | (df[column] > upperbd)]\n",
    "\n",
    "    outliercount[column] = outliers.shape[0]\n",
    "\n",
    "print(outliercount)"
   ]
  },
  {
   "cell_type": "code",
   "execution_count": 15,
   "id": "1853b06b-ee67-414b-bfeb-c312b72f1518",
   "metadata": {},
   "outputs": [
    {
     "data": {
      "image/png": "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",
      "text/plain": [
       "<Figure size 800x400 with 1 Axes>"
      ]
     },
     "metadata": {},
     "output_type": "display_data"
    },
    {
     "data": {
      "image/png": "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",
      "text/plain": [
       "<Figure size 800x400 with 1 Axes>"
      ]
     },
     "metadata": {},
     "output_type": "display_data"
    },
    {
     "data": {
      "image/png": "iVBORw0KGgoAAAANSUhEUgAAArcAAAFjCAYAAAAn2iPTAAAAOnRFWHRTb2Z0d2FyZQBNYXRwbG90bGliIHZlcnNpb24zLjEwLjAsIGh0dHBzOi8vbWF0cGxvdGxpYi5vcmcvlHJYcgAAAAlwSFlzAAAPYQAAD2EBqD+naQAAMu5JREFUeJzt3Qt8TXe6//EnNwkhSV0SjMtRrXuUYshUVUmlGGpEpxclnaMcBi2Z45KppkI1mjpoSxWjmCltR4/qkar7rS1a4iiio2UMcVzS1hBURNj/1/M7Z+3/3iRkk2Qna3/er9eavfdaa+/9W3un45tfnvUsP4fD4RAAAADABvy9PQAAAACguBBuAQAAYBuEWwAAANgG4RYAAAC2QbgFAACAbRBuAQAAYBuEWwAAANgG4RYAAAC2QbgFAACAbRBuAdiSn5+fTJw4sVTea/Xq1dKqVSsJCQkx73v27NlSeV+UvGeffVYqV67s7WEA8ADhFoBHFi1aZAKc6xIZGSkPP/ywfPbZZ1LeHThwwITif/zjH0Xa/6effpLf/va3UrFiRZk9e7b85S9/kdDQ0FL7/AMDA+UXv/iFCWH/8z//I+VR586dzbH06tXrhm36Pei2adOmeWVsAMqfQG8PAED5NGnSJGnQoIE4HA45ffq0CV09evSQlStXyq9//Wspz+E2JSXFBK5/+Zd/ueX+O3fulPPnz8vkyZMlNjZWSvvzz83NlR07dpjP/4svvpD9+/ebGeTyKD09XTIyMqRNmzbeHgqAcoxwC+C2dO/eXdq2bet8PGjQIImKipL333+/XIdbT2VnZ5vbiIiIYnvNixcv3nL21/Xzf+6556R69ery2muvyX/913+ZmeTypl69euaXBP3FQo/Bl+gviPpLis7+A7hzlCUAKBYa7vQfZ/0z+fVB7Q9/+IPUrVtXgoODpXHjxuZPzPoPurp06ZI0adLELHrfcubMGalVq5b86le/kqtXr7rVP/7973+XuLg4EwBr165tZjGt17uZ//7v/zahMCwszLxO165dzaynRWc/H3/8cXNfyyysP/1v3ry5wNfT2d2EhARzv127dmZfHaNl2bJlZhZSPxcNn88888wNpQPWMR0+fNjMfFepUkX69+8vnnrwwQfNrb6Oq40bN5pt+lnpd/TYY4/Jt99+6/FnY30+eow6Q/z8889LjRo1zGv+27/9m+Tl5Zla44EDB8pdd91llrFjxxbpe1F63KNHjzYz/7t3777pvlo2ouO4njU+15ISnX3XX7b0O9RfBvS7iI6Odn6ny5cvN491tlu/K/0cClKUn7lr167JzJkzpXnz5ub19Jc9/Wz++c9/uu1njWnNmjXOMc2dO7dInxOAWyPcArgt586dkx9//FF++OEHyczMlGHDhsmFCxdMgLPoP/69e/eWGTNmyKOPPirTp0834XbMmDGSmJho9tF/2BcvXiyHDh2SF1980fnc4cOHm/fQwBIQEOBcr0FXX0uDQ1pamgkkL7/8slluRseoIe+bb74xoeull16SI0eOmID61VdfmX06depkQpv64x//aOpndWnatGmBr6njHTJkiLmvYUf31TCjdNw6g6pjT01NlcGDB5sg1bFjxxtOOMvPzzfBSWuXNfjHx8d7/H1YgU5DpWX9+vXmdXV2WQOhfubbtm2TBx54wC0AFuWzcTVy5Ej5/vvvzSyrfr/z5s0zz9GaWf1+Xn31VXOcr7/+uvlMiuqFF14w4y/uEwH1Z+vpp58249PvQsOm3l+yZIkJ1Pozq8eivxjod6Yh1VVRf+b0u9efbf1833jjDfnd735n3kO/gytXrrjte/DgQXnqqafkkUceMfvqCYkAiokDADywcOFCna66YQkODnYsWrTIbd8VK1aYba+88orb+n79+jn8/Pwchw4dcq5LSkpy+Pv7O7Zu3epYtmyZed7MmTPdnpeQkGDWjxw50rnu2rVrjp49ezoqVKjg+OGHH5zrdb+XX37Z+bhPnz5mn8OHDzvXnThxwlGlShVHp06dnOus9960aZNHn8fOnTud6/Ly8hyRkZGOFi1aOC5duuRcn56ebvZNTk6+4ZjGjx/v0futX7/eHG9WVpbjo48+ctSoUcN8B/rY0qpVKzOOn376ybnum2++MZ/zwIEDPf5srPeOi4szn7slJibGfJ9Dhw51rsvPz3fUqVPH8dBDD93ymHSf5s2bm/spKSnmPTIyMszjI0eOmMevv/66c3/9Xgv658sanz7HUr9+fbNu27ZtznVr1qwx6ypWrOg4evSoc/3cuXNv+O6L+jP3+eefm/2WLFniNqbVq1ffsN4ak24DUPyYuQVwW7QzwLp168zy3nvvmT/ja+2nzk5aVq1aZWYurdlQi5YpaP507a6gs3X651z9M//vf/97eeihh254nmXEiBHO+/pnaH2sfxbXmcqC6Mzb2rVrpU+fPnL33Xc712vZg87o6Z/Zc3JypLjs2rXLzJbqcbie3NWzZ09TfvHpp5/e8Byd+faEnrymZQFa7tGvXz/z53KtVa1Tp47ZfvLkSdmzZ48pe6hatarzeS1btjSzhfrd3O5no/XVrmUB7du3N9+nrrfo965/ctc/53vCmr3VmdTi0qxZM4mJiXEbr+rSpYup9b1+fUFjvtXPnJaghIeHm89W/6JhLTrLq2UemzZtcns9PRlQZ3QBFD/CLYDb8stf/tIELF20RlQDm4YI6x99dfToUVOfqPWUrqw/8+t2S4UKFeTdd981fw7XE4sWLlxYYF2lv7+/WwhTjRo1MreFte/S0omff/7ZlERcT8eif4bOysqS4mIdV0Hvp+HW9biV1ilbodTTXy4++ugjU6urQUprmosyBj1m3V/roW/ns3ENhEpDndKgff366+tNb0WfM2rUKBPUC6t/9ZQn41XXj7koP3NapqFlNFpaor90uC5armOdeOgabgGUDLolACgWGgB09lbrB/Ufep2F9ZSeYKP0zHF9DV8JABpK9fPz9JcLq1uCzrpqjavOtGotZ0lfdMC1BvpW64t6Qtn1s7dap62zt3qC1vUK+qVHWSce3sl4b3fM+kuABlutsS2IhlxXdEYASg4ztwCKjZ4YpXSmStWvX19OnDhhZmJd/e1vf3Nut+zdu9eclKUn4bRu3dqUOOhMWEEh4vo/G3/33XfmtrC+tBosKlWqZILf9XQsGiytWbzCgpMnrOMq6P10netxFwfrpDX9rGfNmnXLMegxa/cGLWXw5LMpLdbs7SeffFLg7K110tz1J+ZdPyNeXIryM9ewYUNzQQ89mcz6i4brct9995XI2ADciHALoFjo2eBau6nlBVbZgf65XGfTrMBl0Vk5DZHaesp6rtaGagmDzvxqpwG9MISeyV4Q19fTWTZ9HBQUZNpXFRb+unXrZsKSa+mCvsfSpUvNrKe2wFJWf9k7uYSuzqjqLN4777wjly9fdq7XGmNtw6W1t8VNOxvobK7OdOrMt9bM6hn42onC9Vj0Ig/6Pel34+lnU5o03GqbMf2F53oaJNXWrVud67TEQo+1pNzqZ067LOjPul7Mo6Bf+rgkM1B6KEsAcFs0qFkzsFpPqEFISwnGjx/vDEPabklLFbRllgYnnb3SYKVBSsOLFVJeeeUVc/LThg0bTH2unvSUnJwsEyZMMCdLWUFM6Qlaq1evNiee6QlAOg6t99XWXdf/6deVvofWqGpY0xO9tM5Ve4tq+NT2ThYNhBr49IIIOnOsJQN64pGG1aLS0KPP11loPTFOWz5pWNTgrjN9hYX2O6VtqLRPr/5yMHToUNOKS3+B0JOp9GQv7SP81ltvmZlR13ZbRf1sSpOOUcsTCjqxTMO41tHqMekx6/el9dr6/R87dqzYx1KUnzn9nrUVmM6g68+yjlF/DvS/CT3ZTL97/VkGUApKoAMDAB9rBRYSEmLaTs2ZM8etRZQ6f/68Y/To0Y7atWs7goKCHPfee69p62Ttpy2fAgMD3VotWa2k2rVrZ573z3/+09mWKTQ01LSs6tatm6NSpUqOqKgo0xrq6tWrbs+/vhWY2r17t2ljVblyZfPchx9+2K1FlGX+/PmOu+++2xEQEHDLtmAFtQKzfPjhh47WrVubFl1Vq1Z19O/f33H8+HG3faxjKqqbvZ9+Bg0bNjSLfn5KW4Y98MADpu1VWFiYo1evXo4DBw7c8NyifDaFvbfVmsu1FZsnx+baCsyVfu/h4eE3tAKzfm7at29v2nHVq1fPMX369EJbgWnbruvpfsOHD3dbV1DbMU9+5tS8efMcbdq0MZ+3tlKLjo52jB071rRWu9WYABQPP/2f0gjRAHCntHRBuwNYNb0AAFyPmlsAAADYBuEWAAAAtkG4BQAAgG1QcwsAAADbYOYWAAAAtkG4BQAAgG1wEYf/u7SiXrZSm8cXx6U3AQAAULy0klYv565Xs9RLgxeGcCtigm1pXzsdAAAAnsvKypI6deoUup1wK2JmbK0PyxvXUAcAAMDN5eTkmMlIK7cVhnCrLSP+rxRBgy3hFgAAoOy6VQkpJ5QBAADANgi3AAAAsA3CLQAAAGyDcAsAAADbINwCAADANgi3AAAAsA3CLQAAAGzDq+F24sSJpleZ69KkSRPn9tzcXBk+fLhUq1ZNKleuLPHx8XL69Gm31zh27Jj07NlTKlWqJJGRkTJmzBjJz8/3wtEAAADA27x+EYfmzZvL+vXrnY8DA///kEaPHi2ffvqpLFu2TMLDw2XEiBHSt29f+fLLL832q1evmmBbs2ZN2bZtm5w8eVIGDhwoQUFB8uqrr3rleAAAAODD4VbDrIbT6507d04WLFggS5culS5duph1CxculKZNm8qOHTukQ4cOsnbtWjlw4IAJx1FRUdKqVSuZPHmyjBs3zswKV6hQwQtHBAAAAJ8Nt99//73Url1bQkJCJCYmRlJTU6VevXqSkZEhV65ckdjYWOe+WrKg27Zv327Crd5GR0ebYGuJi4uTYcOGSWZmprRu3brA97x8+bJZXK9VDNidlvloGQ8A+9J/I/XfU8CXeTXctm/fXhYtWiSNGzc2JQUpKSny4IMPyv79++XUqVNm5jUiIsLtORpkdZvSW9dga223thVGA7S+F+BLNNgOGTLE28MAUILmzZsnjRo18vYwAN8Nt927d3feb9mypQm79evXl7/+9a9SsWLFEnvfpKQkSUxMdJu5rVu3bom9H1BWZnT0Hz74hqNHj8qUKVPkxRdfNP+/Ct/57xzwdV4vS3Cls7T6G+ehQ4fkkUcekby8PDl79qzb7K12S7BqdPX266+/dnsNq5tCQXW8luDgYLMAvkT/VMmMju/RYMv3DsCXlKk+txcuXJDDhw9LrVq1pE2bNqbrwYYNG5zbDx48aP60qrW5Sm/37dsn2dnZzn3WrVsnYWFh0qxZM68cAwAAAHx05vbf//3fpVevXmZm4cSJE/Lyyy9LQECAPPXUU6b116BBg0z5QNWqVU1gHTlypAm0ejKZ6tatmwmxAwYMkLS0NFNnO2HCBNMbl5lZAAAA3+PVcHv8+HETZH/66SepUaOGdOzY0bT50vtqxowZ4u/vby7eoN0NtBPC22+/7Xy+BuH09HTTHUFDb2hoqCQkJMikSZO8eFQAAADwFj+Hw+EQH6cnlOlMsfbW1RliACjvvvvuO9Mdg7PnAfhaXitTNbcAAADAnSDcAgAAwDYItwAAALANwi0AAABsg3ALAAAA2yDcAgAAwDYItwAAALANwi0AAABsg3ALAAAA2yDcAgAAwDYItwAAALANwi0AAABsg3ALAAAA2yDcAgAAwDYItwAAALANwi0AAABsg3ALAAAA2yDcAgAAwDYItwAAALANwi0AAABsg3ALAAAA2yDcAgAAwDYItwAAALANwi0AAABso8yE26lTp4qfn5+MGjXKua5z585mnesydOhQt+cdO3ZMevbsKZUqVZLIyEgZM2aM5Ofne+EIAAAA4G2BUgbs3LlT5s6dKy1btrxh2+DBg2XSpEnOxxpiLVevXjXBtmbNmrJt2zY5efKkDBw4UIKCguTVV18ttfEDAACgbPD6zO2FCxekf//+Mn/+fLnrrrtu2K5hVsOrtYSFhTm3rV27Vg4cOCDvvfeetGrVSrp37y6TJ0+W2bNnS15eXikfCQAAAMTXw+3w4cPN7GtsbGyB25csWSLVq1eXFi1aSFJSkvz888/Obdu3b5fo6GiJiopyrouLi5OcnBzJzMws9D0vX75s9nFdAAAAUP55tSzhgw8+kN27d5uyhII8/fTTUr9+faldu7bs3btXxo0bJwcPHpTly5eb7adOnXILtsp6rNsKk5qaKikpKcV6LAAAAPDhcJuVlSUvvPCCrFu3TkJCQgrcZ8iQIc77OkNbq1Yt6dq1qxw+fFgaNmx42++tM8CJiYnOxzpzW7du3dt+PQAAAPh4WUJGRoZkZ2fL/fffL4GBgWbZsmWLvPnmm+a+nix2vfbt25vbQ4cOmVutwT19+rTbPtZj3VaY4OBgU7vrugAAAKD881q41RnYffv2yZ49e5xL27Ztzcllej8gIOCG5+h6pTO4KiYmxryGhmSLzgRrWG3WrFkpHg0AAAB8uiyhSpUq5iQxV6GhoVKtWjWzXksPli5dKj169DDrtOZ29OjR0qlTJ2fLsG7dupkQO2DAAElLSzN1thMmTDAnqensLAAAAHxLmehzW5AKFSrI+vXrZebMmXLx4kVTExsfH2/Cq0Vnd9PT02XYsGFmFlfDcUJCgltfXAAAAPiOMhVuN2/e7LyvYVZrcG9FuymsWrWqhEcGAACA8sDrfW4BAACA4kK4BQAAgG0QbgEAAGAbhFsAAADYBuEWAAAAtkG4BQAAgG0QbgEAAGAbhFsAAADYBuEWAAAAtkG4BQAAgG0QbgEAAGAbhFsAAADYBuEWAAAAtkG4BQAAgG0QbgEAAGAbhFsAAADYBuEWAAAAtkG4BQAAgG0QbgEAAGAbhFsAAADYBuEWAAAAtkG4BQAAgG0QbgEAAGAbhFsAAADYRpkJt1OnThU/Pz8ZNWqUc11ubq4MHz5cqlWrJpUrV5b4+Hg5ffq02/OOHTsmPXv2lEqVKklkZKSMGTNG8vPzvXAEAAAA8LYyEW537twpc+fOlZYtW7qtHz16tKxcuVKWLVsmW7ZskRMnTkjfvn2d269evWqCbV5enmzbtk0WL14sixYtkuTkZC8cBQAAAMTXw+2FCxekf//+Mn/+fLnrrruc68+dOycLFiyQ6dOnS5cuXaRNmzaycOFCE2J37Nhh9lm7dq0cOHBA3nvvPWnVqpV0795dJk+eLLNnzzaBFwAAAL4l0NsD0LIDnX2NjY2VV155xbk+IyNDrly5YtZbmjRpIvXq1ZPt27dLhw4dzG10dLRERUU594mLi5Nhw4ZJZmamtG7dusD3vHz5slksOTk54qu0zEN/kQBgL0ePHnW7BWAv4eHhbvkHZSTcfvDBB7J7925TlnC9U6dOSYUKFSQiIsJtvX6Rus3a5/ov1nps7VOQ1NRUSUlJEV+nwfaZAQPlSt7/D/oA7GXKlCneHgKAEhBUIVje+8ufCbhlKdxmZWXJCy+8IOvWrZOQkJBSfe+kpCRJTEx0m7mtW7eu+BqdsdVge+nuh+RaSLi3hwMAAIrAP/ecyN+3mH/HCbdlKNxq2UF2drbcf//9bieIbd26VWbNmiVr1qwxdbNnz551m73V2caaNWua+3r79ddfu72u1U3B2qcgwcHBZsH/0mB7LbS6t4cBAABQfk8o69q1q+zbt0/27NnjXNq2bWtOLrPuBwUFyYYNG5zPOXjwoGn9FRMTYx7rrb6GhmSLzgSHhYVJs2bNvHJcAAAA8MGZ2ypVqkiLFi3c1oWGhpqettb6QYMGmfKBqlWrmsA6cuRIE2j1ZDLVrVs3E2IHDBggaWlpps52woQJ5iQ1ZmYBAAB8j9e7JdzMjBkzxN/f31y8QbsbaCeEt99+27k9ICBA0tPTTXcEDb0ajhMSEmTSpEleHTcAAAC8o0yF282bN7s91hPNtGetLoWpX7++rFq1qhRGBwAAgLLO6xdxAAAAAIoL4RYAAAC2QbgFAACAbRBuAQAAYBuEWwAAANgG4RYAAAC2QbgFAACAbRBuAQAAYBuEWwAAANgG4RYAAAC2QbgFAACAbRBuAQAAYBuEWwAAANgG4RYAAAC+GW6vXLki//qv/ypHjhwpuREBAAAApRFug4KC5D//8z9v970AAACAslWW0KdPH1mxYkXJjAYAAAC4A4GePuHee++VSZMmyZdffilt2rSR0NBQt+3PP//8nYwHAAAAKL1wu2DBAomIiJCMjAyzuPLz8yPcAgAAoPyEW04mAwAAgO1ageXl5cnBgwclPz+/eEcEAAAAlFa4/fnnn2XQoEFSqVIlad68uRw7dsysHzlypEydOvV2xwEAAACUfrhNSkqSb775RjZv3iwhISHO9bGxsfLhhx/e+YgAAACA0qq51TZgGmI7dOhgTiCz6Czu4cOHb3ccAAAAQOnP3P7www8SGRl5w/qLFy+6hd2imDNnjrRs2VLCwsLMEhMTI5999plze+fOnc1rui5Dhw51ew0ti+jZs6cpk9BxjRkzhjpgAAAAH+VxuG3btq18+umnzsdWoP3Tn/5kwqkn6tSpY+p0taXYrl27pEuXLvLYY49JZmamc5/BgwfLyZMnnUtaWppz29WrV02w1ZPbtm3bJosXL5ZFixZJcnKyp4cFAAAAXyxLePXVV6V79+5y4MABM0P6xhtvmPsaLrds2eLRa/Xq1cvt8ZQpU8xs7o4dO0yZg9IZ2Zo1axb4/LVr15r3Xr9+vURFRUmrVq1k8uTJMm7cOJk4caJUqFDB08MDAACAL83cduzYUfbs2WOCbXR0tAmYWg6wfft2c8Wy26WzsB988IEpb3CdAV6yZIlUr15dWrRoYU5m024NFn1PHYMGW0tcXJzk5OS4zf5e7/Lly2Yf1wUAAAA+OHOrGjZsKPPnzy+WAezbt8+E2dzcXKlcubJ8/PHH0qxZM7Pt6aeflvr160vt2rVl7969ZkZWe+suX77cbD916pRbsFXWY91WmNTUVElJSSmW8QMAAKCch1udZdUQ+u2335rHGka1VjYw0POXa9y4sZkJPnfunHz00UeSkJBgyhv0NYcMGeLcT2doa9WqJV27djVdGTRg3y6dAU5MTHQ+1pnbunXr3vbrAQAAoGzwOI3qn/t79+5tZkY1mKrXXntNatSoIStXrjTlA57Quth77rnH3Neyhp07d5o63rlz596wb/v27c3toUOHTLjVWtyvv/7abZ/Tp0+b28LqdFVwcLBZAAAA4OM1t88995w52ev48eOye/dus2RlZZmWXq4zrbfr2rVrpia2IDrDq3QGV2k5g5Y1ZGdnO/dZt26daStmlTYAAADAd3g8c6sBU9t23XXXXc51el87HbRr187j8gDtvFCvXj05f/68LF261Fz5bM2aNab0QB/36NFDqlWrZmpuR48eLZ06dTJBWnXr1s2E2AEDBpgWYTqbPGHCBBk+fDgzswAAAD7I43DbqFEj86d/q1WXRWdPrfKCotLnDBw40PSvDQ8PN6FVg+0jjzxiZoO1xdfMmTNNBwWtiY2Pjzfh1RIQECDp6ekybNgwM4sbGhpqanYnTZrk6WEBAADAV8Kta6ss7TTw/PPPmz6yeglepX1pNVBq7a0nFixYUOg2DbNF6Zur3RRWrVrl0fsCAADAh8NtRESE26V1HQ6H/Pa3v3Wu08fWRRm0kwIAAABQZsPtpk2bSn4kAAAAQGmE24ceeuhO3wcAAAAomxdx0KuJafcCPSFMW3e50h64AAAAQLkIt6tXrzYdDn788ccbtmkNLjW3AAAAKDcXcRg5cqQ8/vjjpn2Xztq6LgRbAAAAlKtwqz1uExMTJSoqqmRGBAAAAJRWuO3Xr5+5ihgAAABQ7mtuZ82aZcoSPv/8c4mOjpagoCC37XqBBwAAAKBchNv3339f1q5dKyEhIWYG1/XiDnqfcAsAAIByE25ffPFFSUlJkfHjx4u/v8dVDQAAAECJ8Tid5uXlyRNPPEGwBQAAQJnjcUJNSEiQDz/8sGRGAwAAAJRmWYL2sk1LS5M1a9ZIy5YtbzihbPr06XcyHgAAAKD0wu2+ffukdevW5v7+/fvdtrmeXAYAAACU+XC7adOmkhkJAAAAcIc4KwwAAAC+O3P78MMP37T8YOPGjXc6JgAAAKB0wm2rVq3cHl+5ckX27Nlj6m+1kwIAAABQbsLtjBkzClw/ceJEuXDhQnGMCQAAAPBuze0zzzwj7777bnG9HAAAAOC9cLt9+3YJCQkprpcDAAAASr4soW/fvm6PHQ6HnDx5Unbt2iUvvfSS5yMAAAAAvBVuw8PD3R77+/tL48aNZdKkSdKtW7fiGhcAAABQ8uF24cKFUlzmzJljln/84x/mcfPmzSU5OVm6d+9uHufm5sof/vAH+eCDD+Ty5csSFxcnb7/9tkRFRTlf49ixYzJs2DBzcYnKlSubjg2pqakSGOjxoQEAAKCc8+pFHOrUqSNTp06VjIwMU9bQpUsXeeyxxyQzM9NsHz16tKxcuVKWLVsmW7ZskRMnTriVRVy9elV69uwpeXl5sm3bNlm8eLEsWrTIBGQAAAD4Hj+HFs0WQYMGDW568QbzYn5+cvjw4TsaUNWqVeX111+Xfv36SY0aNWTp0qXmvvrb3/4mTZs2NSevdejQQT777DP59a9/bUKvNZv7zjvvyLhx4+SHH36QChUqFOk9c3JyTLnFuXPnJCwsTHzFd999J0OGDJFLDTrJtYoR3h4OAAAoAv9LZ6Xika0yb948adSokfiKnCLmtSL/7X7UqFGFbtOygrlz55rSgduls7A6Q3vx4kWJiYkxs7l6gYjY2FjnPk2aNJF69eo5w63eRkdHu5UpaOmClino7G/r1q0LfC8dp+tY9cPyZfofCAAAgB0UOdy+8MILN6w7c+aMTJ482dTNtm/fXl577TWPB7Bv3z4TZrW+VmtmP/74Y2nWrJm56pnOvEZEuM8oapA9deqUua+3rsHW2m5tK4zW5KakpHg8Vrti5hYAgPI3c4uC3dZZV5cuXZLp06fLtGnTpH79+rJ8+XLp0aPH7byU6bSgQVanmD/66CNzQpjW15akpKQkSUxMdJu5rVu3rvgqDbbXQqt7exgAAAClG261dGD+/Plm1lMv2PDmm2+aK5Pdqhb3ZnR29p577jH327RpIzt37pQ33nhDnnjiCXOi2NmzZ91mb0+fPi01a9Y09/X266+/dns93W5tK0xwcLBZAAAA4KPdEv7617+ak7m0E8H48ePl4MGDMmDAgDsKtgW5du2aqYfVoBsUFCQbNmxwbtP31NZfWsag9FbLGrKzs537rFu3zhQZa2kDAAAAfEuRZ26ffPJJqVixojz11FNy9OhRE3ALouUKnpQHaE9bPUns/PnzpjPC5s2bZc2aNeZsuEGDBpnyAe2goIF15MiRJtDqyWRKLxqhIVZDdlpamqmznTBhggwfPpyZWQAAAB9U5HDbqVOnW7b68nQWV2dcBw4caC7fq2G2ZcuWJtg+8sgjZvuMGTPMFdDi4+PdLuJgCQgIkPT0dNMdQUNvaGioqdnVq6UBAADA9xQ53OqManFbsGDBTbdrXe/s2bPNUhg9oW3VqlXFPjYAAACUP169QhkAAABQnAi3AAAAsA3CLQAAAGyDcAsAAADbINwCAADAty+/m5ubK3v37jWtvPSiC6569+5dXGMDAAAASjbcrl692vSm/fHHHwvsc6uX6AUAAADKRVmCXiXs8ccfNxde0Flb14VgCwAAgHIVbk+fPm0uiRsVFVUyIwIAAABKK9z269evRK5WBgAAAJR6ze2sWbNMWcLnn38u0dHREhQU5Lb9+eefv+NBAQAAAKUSbt9//31Zu3athISEmBlcPYnMovcJtwAAACg34fbFF1+UlJQUGT9+vPj70yYXAAAAZYfH6TQvL0+eeOIJgi0AAADKHI8TakJCgnz44YclMxoAAACgNMsStJdtWlqarFmzRlq2bHnDCWXTp0+/k/EAAAAApRdu9+3bJ61btzb39+/f77bN9eQyAAAAoMyH202bNpXMSAAAAIA7dEdnhR0/ftwsAAAAQFngcbi9du2aTJo0ScLDw6V+/fpmiYiIkMmTJ5ttAAAAQLnqc7tgwQKZOnWqPPDAA2bdF198IRMnTpTc3FyZMmVKSYwTAAAAKP5wu3jxYvnTn/4kvXv3dq7Trgm/+MUv5Pe//z3hFgAAAOWnLOHMmTPSpEmTG9brOt0GAAAAlJtwe99998msWbNuWK/rdBsAAABQbsKtXsDh3XfflWbNmsmgQYPMovcXLVokr7/+ukevlZqaKu3atZMqVapIZGSk9OnTRw4ePOi2T+fOnU3/XNdl6NChbvscO3ZMevbsKZUqVTKvM2bMGMnPz/f00AAAAOBr4fahhx6S7777Tn7zm9/I2bNnzdK3b18TSh988EGPXmvLli0yfPhw2bFjh6xbt06uXLki3bp1k4sXL7rtN3jwYDl58qRz0YDtesU0DbZ5eXmybds2UxOsQTs5OdnTQwMAAICvnVCmateuXSwnjq1evdrtsYZSnXnNyMiQTp06OdfrjGzNmjULfI21a9fKgQMHZP369RIVFSWtWrUybcnGjRtnOjhUqFDhjscJAAAAG1/EQWdr/+M//kOee+45s8yYMUPOnTt3x4OxXqNq1apu65csWSLVq1eXFi1aSFJSkvz888/Obdu3b5fo6GgTbC1xcXGSk5MjmZmZdzwmAAAA2HjmdteuXSY8VqxYUX75y1+addOnTzczuTqLev/999/WQPQCEKNGjTK9czXEWp5++mlzoQidLd67d6+ZkdUSiOXLl5vtp06dcgu2ynqs2wpy+fJls1g0CAMAAMAHw+3o0aNNj9v58+dLYOD/Pl1P3tIZXA2nW7duva2BaO3t/v37zQUhXA0ZMsR5X2doa9WqJV27dpXDhw9Lw4YNb+u99ES2lJSU23ouAAAAbFSWoDO3OntqBVul98eOHWu23Y4RI0ZIenq6bNq0SerUqXPTfdu3b29uDx06ZG61Fvf06dNu+1iPC6vT1dIGLYGwlqysrNsaNwAAAMp5uA0LCzOtt66nAVFbennC4XCYYPvxxx/Lxo0bpUGDBrd8zp49e8ytzuCqmJgY2bdvn2RnZzv30c4LOk5tUVaQ4OBgs911AQAAgA+WJTzxxBOmt+20adPkV7/6lVn35Zdfmt6yTz31lMelCEuXLpVPPvnEBGOrRjY8PNzU9GrpgW7v0aOHVKtWzdTcalmEdlLQS/4qbR2mIXbAgAGmRZi+xoQJE8xra4gFAACA7/A43Gqo1QspDBw40HmhhKCgIBk2bJhMnTrVo9eaM2eO80INrhYuXCjPPvusaeOlLb5mzpxpet/WrVtX4uPjTXi1BAQEmJIGfX+dxQ0NDZWEhASZNGmSp4cGAAAAXwu3GjjfeOMNc1KWzqwqPbFLe9FeunTJ47KEm9Ewqxd6uBXtprBq1SqP3hsAAAD2c1t9bpWGWe1eoIvOnmo7sKLUzAIAAABeD7faF1a7DLRt29bU2q5YscJZQqChVi/koPWwAAAAQJkvS0hOTpa5c+dKbGysbNu2TR5//HH53e9+Jzt27DCztvpYZ3ABAACAMh9uly1bJn/+85/NBRz0YgvarUBPKPvmm2/MCWYAAABAuSlLOH78uLRp08bc18vjapstLUMg2AIAAKDchdurV6+aTgmuVyWrXLlySY0LAAAAKLmyBG3bpb1nrQsj5ObmytChQ01fWVfLly/3fBQAAABAaYZbvTCCq2eeeaY43h8AAAAo/XCrLb8AAAAAW17EAQAAAChrCLcAAACwDcItAAAAbINwCwAAANsg3AIAAMA2CLcAAACwDcItAAAAbINwCwAAANsg3AIAAMA2CLcAAACwDcItAAAAbINwCwAAANsg3AIAAMA2CLcAAACwDcItAAAAbMOr4TY1NVXatWsnVapUkcjISOnTp48cPHjQbZ/c3FwZPny4VKtWTSpXrizx8fFy+vRpt32OHTsmPXv2lEqVKpnXGTNmjOTn55fy0QAAAMCnw+2WLVtMcN2xY4esW7dOrly5It26dZOLFy869xk9erSsXLlSli1bZvY/ceKE9O3b17n96tWrJtjm5eXJtm3bZPHixbJo0SJJTk720lEBAADAWwK99s4isnr1arfHGkp15jUjI0M6deok586dkwULFsjSpUulS5cuZp+FCxdK06ZNTSDu0KGDrF27Vg4cOCDr16+XqKgoadWqlUyePFnGjRsnEydOlAoVKnjp6MoP/9xz3h4CAAAoIv7dLsPh9noaZlXVqlXNrYZcnc2NjY117tOkSROpV6+ebN++3YRbvY2OjjbB1hIXFyfDhg2TzMxMad26tReOpHwIDw+XoArBIn/f4u2hAAAAD+i/3/rvOMpwuL127ZqMGjVKHnjgAWnRooVZd+rUKTPzGhER4bavBlndZu3jGmyt7da2gly+fNkslpycHPFF+jm995c/O3+pAGAfR48elSlTpsiLL74o9evX9/ZwABQzDbbX5x+UsXCrtbf79++XL774olROZEtJSSnx9ykP9D8M/uMA7EuDbaNGjbw9DADwrVZgI0aMkPT0dNm0aZPUqVPHub5mzZrmRLGzZ8+67a/dEnSbtc/13ROsx9Y+10tKSjKzldaSlZVVAkcFAAAAnwq3DofDBNuPP/5YNm7cKA0aNHDb3qZNGwkKCpINGzY412mrMG39FRMTYx7r7b59+yQ7O9u5j3ZeCAsLk2bNmhX4vsHBwWa76wIAAIDyL9DbpQjaCeGTTz4xvW6tGlmtI6lYsaK5HTRokCQmJpqTzDSEjhw50gRaPZlMaeswDbEDBgyQtLQ08xoTJkwwr60hFgAAAL7Dq+F2zpw55rZz585u67Xd17PPPmvuz5gxQ/z9/c3FG/QkMO2E8Pbbbzv3DQgIMCUN2h1BQ29oaKgkJCTIpEmTSvloAAAA4NPhVssSbiUkJERmz55tlpudMLFq1apiHh0AAADKmzJxQhkAAABQHAi3AAAAsA3CLQAAAGyDcAsAAADbINwCAADANgi3AAAAsA3CLQAAAGyDcAsAAADbINwCAADANgi3AAAAsA3CLQAAAGyDcAsAAADbINwCAADANgi3AAAAsA3CLQAAAGyDcAsAAADbINwCAADANgi3AAAAsA3CLQAAAGyDcAsAAADbINwCAADANgi3AAAAsA3CLQAAAGyDcAsAAADb8Gq43bp1q/Tq1Utq164tfn5+smLFCrftzz77rFnvujz66KNu+5w5c0b69+8vYWFhEhERIYMGDZILFy6U8pEAAABAfD3cXrx4Ue677z6ZPXt2oftomD158qRzef/99922a7DNzMyUdevWSXp6ugnMQ4YMKYXRAwAAoKwJ9Oabd+/e3Sw3ExwcLDVr1ixw27fffiurV6+WnTt3Stu2bc26t956S3r06CHTpk0zM8IAAADwHWW+5nbz5s0SGRkpjRs3lmHDhslPP/3k3LZ9+3ZTimAFWxUbGyv+/v7y1VdfeWnEAAAA8MmZ21vRkoS+fftKgwYN5PDhw/LHP/7RzPRqqA0ICJBTp06Z4OsqMDBQqlatarYV5vLly2ax5OTklOhxAAAAoHSU6XD75JNPOu9HR0dLy5YtpWHDhmY2t2vXrrf9uqmpqZKSklJMowQAAEBZUebLElzdfffdUr16dTl06JB5rLW42dnZbvvk5+ebDgqF1emqpKQkOXfunHPJysoq8bEDAACg5JWrcHv8+HFTc1urVi3zOCYmRs6ePSsZGRnOfTZu3CjXrl2T9u3b3/QkNW0d5roAAACg/PNqWYL2o7VmYdWRI0dkz549pmZWFy0diI+PN7OwWnM7duxYueeeeyQuLs7s37RpU1OXO3jwYHnnnXfkypUrMmLECFPOQKcEAAAA3+PVmdtdu3ZJ69atzaISExPN/eTkZHPC2N69e6V3797SqFEjc3GGNm3ayOeff25mXi1LliyRJk2amBpcbQHWsWNHmTdvnhePCgAAAD45c9u5c2dxOByFbl+zZs0tX0NneJcuXVrMIwMAAEB5VK5qbgEAAICbIdwCAADANgi3AAAAsA3CLQAAAGyDcAsAAADbINwCAADANgi3AAAAsA3CLQAAAGyDcAsAAADbINwCAADANgi3AAAAsA3CLQAAAGyDcAsAAADbINwCAADANgi3AAAAsA3CLQAAAGyDcAsAAADbINwCAADANgi3AAAAsA3CLQAAAGyDcAsAAADbINwCAADANgi3AAAAsA3CLQAAAGyDcAsAAADb8Gq43bp1q/Tq1Utq164tfn5+smLFCrftDodDkpOTpVatWlKxYkWJjY2V77//3m2fM2fOSP/+/SUsLEwiIiJk0KBBcuHChVI+EgAAAIivh9uLFy/KfffdJ7Nnzy5we1pamrz55pvyzjvvyFdffSWhoaESFxcnubm5zn002GZmZsq6deskPT3dBOYhQ4aU4lEAAACgrAj05pt3797dLAXRWduZM2fKhAkT5LHHHjPr/vznP0tUVJSZ4X3yySfl22+/ldWrV8vOnTulbdu2Zp+33npLevToIdOmTTMzwgD+l/5SeOzYMW8PA6Xk6NGjbrfwDfXq1ZOQkBBvDwPw3XB7M0eOHJFTp06ZUgRLeHi4tG/fXrZv327Crd5qKYIVbJXu7+/vb2Z6f/Ob3xT42pcvXzaLJScnp4SPBvA+Dbb8VcP3TJkyxdtDQCmaN2+eNGrUyNvDALyqzIZbDbZKZ2pd6WNrm95GRka6bQ8MDJSqVas69ylIamqqpKSklMi4gbI8o6P/8AGw93/ngK8rs+G2JCUlJUliYqLbzG3dunW9OiagpOmfKpnRAQDYXZltBVazZk1ze/r0abf1+tjaprfZ2dlu2/Pz800HBWufggQHB5vuCq4LAAAAyr8yG24bNGhgAuqGDRvcZli1ljYmJsY81tuzZ89KRkaGc5+NGzfKtWvXTG0uAAAAfItXyxK0H+2hQ4fcTiLbs2ePqZnVuqFRo0bJK6+8Ivfee68Juy+99JLpgNCnTx+zf9OmTeXRRx+VwYMHm3ZhV65ckREjRpiTzeiUAAAA4Hu8Gm537dolDz/8sPOxVQebkJAgixYtkrFjx5peuHqGt87QduzY0bT+cm1zsmTJEhNou3btarokxMfHm964AAAA8D1+Dm0o6+O03EHbjJ07d476WwAAgHKc18pszS0AAADgKcItAAAAbINwCwAAANsg3AIAAMA2CLcAAACwDZ+8/O71rIYRehYeAAAAyh4rp92q0RfhVkTOnz9vbuvWrevtoQAAAOAWuU1bghWGPrci5nK9J06ckCpVqoifn5+3hwMAxTLDob+wZ2Vl0b8bgC1oZNVgq1eh1Qt3FYZwCwA2xMVpAPgqTigDAACAbRBuAQAAYBuEWwCwoeDgYHn55ZfNLQD4EmpuAQAAYBvM3AIAAMA2CLcAAACwDcItAAAAbINwCwAAANsg3AIAAMA2CLcAAACwDcItAAAAbINwCwAAALGL/wdLg2SpZMaP5wAAAABJRU5ErkJggg==",
      "text/plain": [
       "<Figure size 800x400 with 1 Axes>"
      ]
     },
     "metadata": {},
     "output_type": "display_data"
    },
    {
     "data": {
      "image/png": "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",
      "text/plain": [
       "<Figure size 800x400 with 1 Axes>"
      ]
     },
     "metadata": {},
     "output_type": "display_data"
    }
   ],
   "source": [
    "for column in numerical_columns:\n",
    "    plt.figure(figsize=(8,4))\n",
    "    sns.boxplot(df[column])\n",
    "    plt.title(f'Boxplot for {column}')\n",
    "    plt.show()"
   ]
  },
  {
   "cell_type": "markdown",
   "id": "8533c6b8-f062-4d6d-a08d-b4f0e15cb70e",
   "metadata": {},
   "source": [
    "From the above analysis with the use of z-scores, IQR calculations, and boxplots to visualize the data, we conclude that there are no outliers in the data. Considering that the data used is synthetic, it is possible that the data is idealized and purposely excludes outliers. We can also conclude that the minimum value in \"Billing Amounts\" was not an outlier, even though it raised attention initally. "
   ]
  },
  {
   "cell_type": "markdown",
   "id": "369db4a5-9ae8-4725-8bf3-a789738f1fcd",
   "metadata": {},
   "source": [
    "# Checking for Duplicates"
   ]
  },
  {
   "cell_type": "markdown",
   "id": "8cbc19d6-ef16-4711-80f0-6c1d68140c30",
   "metadata": {},
   "source": [
    "Next, we want to make sure that the data does not have any duplicates that may be affecting distributions and statistics. To do so, we run the following code:"
   ]
  },
  {
   "cell_type": "code",
   "execution_count": 16,
   "id": "00c43894-de06-474b-bdf3-da22266190bf",
   "metadata": {},
   "outputs": [
    {
     "name": "stdout",
     "output_type": "stream",
     "text": [
      "Duplicate rows:\n",
      "                     Name  Age  Gender Blood Type Medical Condition  \\\n",
      "50023        Samuel joYCe   56    Male         O+         Arthritis   \n",
      "50040    KIMBErly vasqueZ   26    Male         A-           Obesity   \n",
      "50055      SCoTT tHOrNton   55  Female         B-           Obesity   \n",
      "50070         wiLliam LEe   27  Female         O+         Arthritis   \n",
      "50078  chRistOPheR NoRrIs   38    Male        AB-         Arthritis   \n",
      "...                   ...  ...     ...        ...               ...   \n",
      "55461      connOR coMPTon   63    Male         A+            Asthma   \n",
      "55462       alYSsA mIlLER   35  Female         A-          Diabetes   \n",
      "55464        ChRIs huGHeS   35  Female        AB-           Obesity   \n",
      "55484     keNNEtH alvarez   80    Male         O+            Cancer   \n",
      "55491       lInDA grIFfin   47  Female         O+           Obesity   \n",
      "\n",
      "      Date of Admission             Doctor                    Hospital  \\\n",
      "50023        2022-11-03     Krista Hartman              Thomas-Ballard   \n",
      "50040        2023-10-23   Jennifer Bennett                   Cowan Inc   \n",
      "50055        2021-04-08      Joshua Ingram                  Keller LLC   \n",
      "50070        2020-01-31  Lauren Montgomery               Winters-Simon   \n",
      "50078        2023-01-14       Denise Blair                 Inc Morales   \n",
      "...                 ...                ...                         ...   \n",
      "55461        2021-08-21     Jonathan Allen  and Willis Mullins, Bowers   \n",
      "55462        2022-06-30         Ryan Price           Shelton-Gallagher   \n",
      "55464        2024-02-28      Katelyn Perry                Lyons-Hansen   \n",
      "55484        2022-05-05      Andrew Conner               Sons Mayo and   \n",
      "55491        2020-06-21     Danielle Davis    and King Jordan Johnson,   \n",
      "\n",
      "      Insurance Provider  Billing Amount  Room Number Admission Type  \\\n",
      "50023   UnitedHealthcare    15654.830587          157         Urgent   \n",
      "50040   UnitedHealthcare    38142.109678          313         Urgent   \n",
      "50055           Medicare    30894.904511          455         Urgent   \n",
      "50070              Cigna    46229.434901          153       Elective   \n",
      "50078           Medicare     9072.127142          452      Emergency   \n",
      "...                  ...             ...          ...            ...   \n",
      "55461           Medicare     1936.702824          375      Emergency   \n",
      "55462   UnitedHealthcare     2210.460898          289       Elective   \n",
      "55464         Blue Cross    11889.154513          128      Emergency   \n",
      "55484              Cigna    45653.802310          114       Elective   \n",
      "55491              Aetna    15715.551079          310      Emergency   \n",
      "\n",
      "      Discharge Date   Medication  Test Results  Discharge_to_Admission_Days  \n",
      "50023     2022-11-22      Aspirin  Inconclusive                           19  \n",
      "50040     2023-11-18   Penicillin      Abnormal                           26  \n",
      "50055     2021-04-15      Aspirin      Abnormal                            7  \n",
      "50070     2020-02-13      Lipitor        Normal                           13  \n",
      "50078     2023-02-12   Penicillin        Normal                           29  \n",
      "...              ...          ...           ...                          ...  \n",
      "55461     2021-09-16  Paracetamol        Normal                           26  \n",
      "55462     2022-07-27   Penicillin        Normal                           27  \n",
      "55464     2024-03-14  Paracetamol      Abnormal                           15  \n",
      "55484     2022-05-17      Aspirin        Normal                           12  \n",
      "55491     2020-06-25      Lipitor      Abnormal                            4  \n",
      "\n",
      "[534 rows x 16 columns]\n"
     ]
    }
   ],
   "source": [
    "duplicate_rows = df[df.duplicated()]\n",
    "print(\"Duplicate rows:\")\n",
    "print(duplicate_rows)"
   ]
  },
  {
   "cell_type": "code",
   "execution_count": 130,
   "id": "c01a1efb-fead-4be3-bd93-2a11977163f3",
   "metadata": {},
   "outputs": [
    {
     "name": "stdout",
     "output_type": "stream",
     "text": [
      "Rows left after dropping duplicates: 54966\n"
     ]
    }
   ],
   "source": [
    "df = df.drop_duplicates()\n",
    "print(f'Rows left after dropping duplicates: {df.shape[0]}')"
   ]
  },
  {
   "cell_type": "markdown",
   "id": "c7fd2e4d-cf9e-469f-9350-a05358bea922",
   "metadata": {},
   "source": [
    "After dropping duplicates, we can see that 34 rows were removed. The \"534 rows\" at the bottom of the previous output were not all exact duplicates, and could have been rows with some duplicate columns, but this is natural since it is likely certain values/results would be the same across different patients. We wish to remove all the rows that are exact duplicates, which the previous block of code has taken care of."
   ]
  },
  {
   "cell_type": "markdown",
   "id": "a2cd7cce-c3b3-4866-aac9-ff4af606ca41",
   "metadata": {},
   "source": [
    "# Exploring Potential Inconsistencies in Categorial Columns"
   ]
  },
  {
   "cell_type": "markdown",
   "id": "0739f646-e9fd-44f3-aafa-a362bf053070",
   "metadata": {},
   "source": [
    "Now that we have checked for outliers in the quantitative columns, we wish to verify that the categorical columns such as gender, blood type, doctor, admission type, etc. have consistent values in the rows. "
   ]
  },
  {
   "cell_type": "code",
   "execution_count": 18,
   "id": "fdbe8c9f-00be-4ea0-ba6e-444f68895b2e",
   "metadata": {},
   "outputs": [
    {
     "name": "stdout",
     "output_type": "stream",
     "text": [
      "No invalid values found in 'Gender'.\n",
      "No invalid values found in 'Blood Type'.\n",
      "No invalid values found in 'Medical Condition'.\n",
      "No invalid values found in 'Doctor'.\n",
      "No invalid values found in 'Hospital'.\n",
      "No invalid values found in 'Insurance Provider'.\n",
      "No invalid values found in 'Admission Type'.\n",
      "No invalid values found in 'Medication'.\n",
      "No invalid values found in 'Test Results'.\n"
     ]
    }
   ],
   "source": [
    "expected_values = {\n",
    "    \"Gender\": [\"Male\", \"Female\"],\n",
    "    \"Blood Type\": [\"A-\", \"A+\", \"B-\", \"B+\", \"AB-\", \"AB+\", \"O-\", \"O+\"],\n",
    "    \"Medical Condition\": [\"Cancer\", \"Obesity\", \"Diabetes\", \"Asthma\", \"Hypertension\", \"Arthritis\"],\n",
    "    \"Doctor\": None,  \n",
    "    \"Hospital\": None,  \n",
    "    \"Insurance Provider\": [\"Blue Cross\", \"Medicare\", \"Aetna\", \"UnitedHealthcare\", \"Cigna\"],\n",
    "    \"Admission Type\": [\"Urgent\", \"Emergency\", \"Elective\"],\n",
    "    \"Medication\": [\"Paracetamol\", \"Ibuprofen\", \"Aspirin\", \"Penicillin\", \"Lipitor\"],\n",
    "    \"Test Results\": [\"Normal\", \"Inconclusive\", \"Abnormal\"]\n",
    "}\n",
    "\n",
    "def check_invalid_values(column, expected_list):\n",
    "    if expected_list is None:\n",
    "        return []  
    "    invalid_values = set(column) - set(expected_list)\n",
    "    return list(invalid_values)\n",
    "\n",
    "for column, expected_list in expected_values.items():\n",
    "    invalid_values = check_invalid_values(df[column], expected_list)\n",
    "    if invalid_values:\n",
    "        print(f\"Invalid values in '{column}':\")\n",
    "        print(invalid_values)\n",
    "    else:\n",
    "        print(f\"No invalid values found in '{column}'.\")"
   ]
  },
  {
   "cell_type": "markdown",
   "id": "cb48e21c-be6d-4baa-9e9d-7008087ad146",
   "metadata": {},
   "source": [
    "From the above code, we have verified that there are no invalid values in any of the columns, so we can proceed without worry."
   ]
  },
  {
   "cell_type": "markdown",
   "id": "01dff8d5-4c3b-4345-beb1-16499a53a69f",
   "metadata": {},
   "source": [
    "As a reminder, the date of admission and discharge date columns were converted from object type to datetime when working with the negative billing amounts, so this has been successfully accounted for."
   ]
  },
  {
   "cell_type": "markdown",
   "id": "76bc803d-3b43-48ca-a9c0-04a4d8b2c646",
   "metadata": {},
   "source": [
    "# Linear Regression Model - Age and Gender vs Obesity Diagnosis "
   ]
  },
  {
   "cell_type": "code",
   "execution_count": 30,
   "id": "c2f8b5d1-e489-4a34-b28e-9c8a4dfd176e",
   "metadata": {},
   "outputs": [
    {
     "name": "stdout",
     "output_type": "stream",
     "text": [
      "Accuracy: 0.49471471471471473\n",
      "Confusion Matrix:\n",
      " [[6883 6990]\n",
      " [1423 1354]]\n",
      "Classification Report:\n",
      "               precision    recall  f1-score   support\n",
      "\n",
      "           0       0.83      0.50      0.62     13873\n",
      "           1       0.16      0.49      0.24      2777\n",
      "\n",
      "    accuracy                           0.49     16650\n",
      "   macro avg       0.50      0.49      0.43     16650\n",
      "weighted avg       0.72      0.49      0.56     16650\n",
      "\n"
     ]
    }
   ],
   "source": [
    "from sklearn.model_selection import train_test_split\n",
    "from sklearn.linear_model import LogisticRegression\n",
    "from sklearn.preprocessing import StandardScaler, LabelEncoder\n",
    "from sklearn.metrics import accuracy_score, confusion_matrix, classification_report\n",
    "\n",
    "df_copy = df.copy()\n",
    "df_copy['Obesity Diagnosis'] = df_copy['Medical Condition'].apply(lambda x: 1 if x == 'Obesity' else 0)\n",
    "\n",
    "label_encoder = LabelEncoder()\n",
    "df_copy['Gender'] = label_encoder.fit_transform(df_copy['Gender'])\n",
    "\n",
    "X = df_copy[['Age', 'Gender']]\n",
    "y = df_copy['Obesity Diagnosis']\n",
    "\n",
    "X_train, X_test, y_train, y_test = train_test_split(X, y, test_size=0.3, random_state=42)\n",
    "\n",
    "scaler = StandardScaler()\n",
    "X_train_scaled = scaler.fit_transform(X_train)\n",
    "X_test_scaled = scaler.transform(X_test)\n",
    "\n",
    "logreg = LogisticRegression(max_iter=1000, class_weight = 'balanced')\n",
    "logreg.fit(X_train_scaled, y_train)\n",
    "\n",
    "y_pred = logreg.predict(X_test_scaled)\n",
    "\n",
    "print(\"Accuracy:\", accuracy_score(y_test, y_pred))\n",
    "print(\"Confusion Matrix:\\n\", confusion_matrix(y_test, y_pred))\n",
    "print(\"Classification Report:\\n\", classification_report(y_test, y_pred, zero_division=1))\n"
   ]
  },
  {
   "cell_type": "markdown",
   "id": "95501239-2202-4809-ba37-17ae872c12f1",
   "metadata": {},
   "source": [
    "From the above confusion matrix, we predict obesity with respect to age and gender with 49.47% accuracy, which is not too accurate. From this, there may no be significant relationship between age/gender and obesity diagnosis, but we will further explore the relationship between the variables using graphs below."
   ]
  },
  {
   "cell_type": "code",
   "execution_count": 31,
   "id": "bad53f30-aef8-4fbc-87ae-1a302541192e",
   "metadata": {},
   "outputs": [
    {
     "data": {
      "image/png": "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",
      "text/plain": [
       "<Figure size 800x600 with 1 Axes>"
      ]
     },
     "metadata": {},
     "output_type": "display_data"
    },
    {
     "data": {
      "image/png": "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",
      "text/plain": [
       "<Figure size 800x600 with 1 Axes>"
      ]
     },
     "metadata": {},
     "output_type": "display_data"
    }
   ],
   "source": [
    "import matplotlib.pyplot as plt\n",
    "import seaborn as sns\n",
    "\n",
    
    "plt.figure(figsize=(8,6))\n",
    "sns.boxplot(x='Obesity Diagnosis', y='Age', data=df_copy)\n",
    "plt.title('Age vs Obesity Diagnosis')\n",
    "plt.show()\n",
    "\n",
    
    "plt.figure(figsize=(8,6))\n",
    "sns.countplot(x='Gender', hue='Obesity Diagnosis', data=df_copy)\n",
    "plt.title('Gender vs Obesity Diagnosis')\n",
    "plt.show()\n"
   ]
  },
  {
   "cell_type": "markdown",
   "id": "30b5ffb4-e342-4ae9-a695-95c29ca13112",
   "metadata": {},
   "source": [
    "Again, there does not appear to be a significant relationship between gender and obesity diagnoses when analyzing the above graphs."
   ]
  }
 ],
 "metadata": {
  "kernelspec": {
   "display_name": "Python 3 (ipykernel)",
   "language": "python",
   "name": "python3"
  },
  "language_info": {
   "codemirror_mode": {
    "name": "ipython",
    "version": 3
   },
   "file_extension": ".py",
   "mimetype": "text/x-python",
   "name": "python",
   "nbconvert_exporter": "python",
   "pygments_lexer": "ipython3",
   "version": "3.13.1"
  }
 },
 "nbformat": 4,
 "nbformat_minor": 5
}
